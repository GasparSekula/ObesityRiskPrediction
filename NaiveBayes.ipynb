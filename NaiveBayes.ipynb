{
 "cells": [
  {
   "cell_type": "markdown",
   "metadata": {},
   "source": [
    "## Naive Bayes \n",
    "## best score 0.66\n",
    "### 1. Libraries"
   ]
  },
  {
   "cell_type": "code",
   "execution_count": 2,
   "metadata": {},
   "outputs": [],
   "source": [
    "from sklearn.naive_bayes import GaussianNB\n",
    "import pandas as pd\n",
    "import numpy as np\n",
    "import seaborn as sns\n",
    "import matplotlib.pyplot as plt\n",
    "from sklearn.compose import ColumnTransformer\n",
    "from sklearn.pipeline import Pipeline\n",
    "from sklearn.preprocessing import FunctionTransformer, LabelEncoder\n",
    "from sklearn.metrics import classification_report, confusion_matrix\n",
    "from sklearn.model_selection import GridSearchCV"
   ]
  },
  {
   "cell_type": "markdown",
   "metadata": {},
   "source": [
    "### 2. Data"
   ]
  },
  {
   "cell_type": "code",
   "execution_count": 3,
   "metadata": {},
   "outputs": [],
   "source": [
    "train = pd.read_csv('Data/selected_train.csv')\n",
    "test = pd.read_csv('Data/selected_test.csv')\n",
    "val = pd.read_csv('Data/selected_val.csv')\n",
    "\n",
    "X_train = train.drop('NObeyesdad', axis=1)\n",
    "y_train = train['NObeyesdad']\n",
    "X_test = test.drop('NObeyesdad', axis=1)\n",
    "y_test = test['NObeyesdad']\n",
    "X_val = val.drop('NObeyesdad', axis=1)\n",
    "y_val = val['NObeyesdad']"
   ]
  },
  {
   "cell_type": "markdown",
   "metadata": {},
   "source": [
    "### 3. Random parameters"
   ]
  },
  {
   "cell_type": "code",
   "execution_count": 4,
   "metadata": {},
   "outputs": [
    {
     "name": "stdout",
     "output_type": "stream",
     "text": [
      "Classification report: \n",
      "               precision    recall  f1-score   support\n",
      "\n",
      "           0       0.85      0.88      0.87       525\n",
      "           1       0.76      0.70      0.73       624\n",
      "           2       0.59      0.58      0.58       604\n",
      "           3       0.73      0.97      0.83       714\n",
      "           4       0.93      1.00      0.96       837\n",
      "           5       0.71      0.52      0.60       532\n",
      "           6       0.55      0.44      0.49       523\n",
      "\n",
      "    accuracy                           0.75      4359\n",
      "   macro avg       0.73      0.73      0.72      4359\n",
      "weighted avg       0.74      0.75      0.74      4359\n",
      "\n",
      "Confusion matrix: \n",
      " [[464  42   2   0  14   2   1]\n",
      " [ 78 434   2   0  35  53  22]\n",
      " [  2   3 350 185   8  14  42]\n",
      " [  0   0  16 690   0   0   8]\n",
      " [  0   0   0   1 835   1   0]\n",
      " [  2  68  67   4   4 276 111]\n",
      " [  0  21 159  67   2  45 229]]\n"
     ]
    }
   ],
   "source": [
    "nb = GaussianNB()\n",
    "nb.fit(X_train, y_train)\n",
    "y_pred1 = nb.predict(X_val)\n",
    "class_report1 = classification_report(y_val, y_pred1)\n",
    "print(\"Classification report: \\n\", class_report1)\n",
    "conf_matrix1 = confusion_matrix(y_val, y_pred1)\n",
    "print(\"Confusion matrix: \\n\", conf_matrix1)"
   ]
  },
  {
   "cell_type": "markdown",
   "metadata": {},
   "source": [
    "Score: 0.75"
   ]
  },
  {
   "cell_type": "markdown",
   "metadata": {},
   "source": [
    "### 4. Hyperparameter tuning"
   ]
  },
  {
   "cell_type": "code",
   "execution_count": 5,
   "metadata": {},
   "outputs": [
    {
     "name": "stdout",
     "output_type": "stream",
     "text": [
      "Fitting 3 folds for each of 100 candidates, totalling 300 fits\n",
      "Best parameters:  {'var_smoothing': 0.002848035868435802}\n",
      "Best score:  0.7430138441758812\n",
      "Best model CV results:  0.7430138441758812\n"
     ]
    }
   ],
   "source": [
    "nb = GaussianNB()\n",
    "\n",
    "param_grid = {'var_smoothing': np.logspace(0,-9, num=100)}\n",
    "\n",
    "grid_search = GridSearchCV(estimator = nb, param_grid = param_grid, scoring=\"accuracy\", n_jobs=-1, cv=3, verbose=2)\n",
    "grid_search.fit(X_train, y_train)\n",
    "\n",
    "best_params = grid_search.best_params_\n",
    "print(\"Best parameters: \", best_params)\n",
    "\n",
    "best_score = grid_search.best_score_\n",
    "print(\"Best score: \", best_score)\n",
    "\n",
    "cv_results = grid_search.cv_results_\n",
    "print(\"Best model CV results: \", cv_results['mean_test_score'][grid_search.best_index_])"
   ]
  },
  {
   "cell_type": "markdown",
   "metadata": {},
   "source": [
    "Best parameters:  {'var_smoothing': 0.002848035868435802}  \n",
    "Best score:  0.7430138441758812  \n",
    "Best model CV results:  0.7430138441758812  \n",
    "No overfitting."
   ]
  },
  {
   "cell_type": "markdown",
   "metadata": {},
   "source": [
    "### 5. Best model - test"
   ]
  },
  {
   "cell_type": "code",
   "execution_count": 6,
   "metadata": {},
   "outputs": [
    {
     "name": "stdout",
     "output_type": "stream",
     "text": [
      "Classification report: \n",
      "               precision    recall  f1-score   support\n",
      "\n",
      "           0       0.85      0.91      0.88       525\n",
      "           1       0.77      0.72      0.74       624\n",
      "           2       0.57      0.59      0.58       604\n",
      "           3       0.73      0.96      0.83       714\n",
      "           4       0.96      1.00      0.98       837\n",
      "           5       0.70      0.50      0.59       532\n",
      "           6       0.54      0.42      0.48       523\n",
      "\n",
      "    accuracy                           0.76      4359\n",
      "   macro avg       0.73      0.73      0.73      4359\n",
      "weighted avg       0.75      0.76      0.75      4359\n",
      "\n",
      "Confusion matrix: \n",
      " [[477  43   2   0   0   2   1]\n",
      " [ 79 450   2   0  15  54  24]\n",
      " [  2   3 356 181   9  12  41]\n",
      " [  0   0  21 686   0   0   7]\n",
      " [  1   0   0   1 834   1   0]\n",
      " [  2  68  72   3   7 268 112]\n",
      " [  0  21 171  63   3  44 221]]\n"
     ]
    }
   ],
   "source": [
    "best = GaussianNB(var_smoothing=0.002848035868435802)\n",
    "best.fit(X_train, y_train)\n",
    "y_pred2 = best.predict(X_val)\n",
    "class_report2 = classification_report(y_val, y_pred2)\n",
    "print(\"Classification report: \\n\", class_report2)\n",
    "conf_matrix2 = confusion_matrix(y_val, y_pred2)\n",
    "print(\"Confusion matrix: \\n\", conf_matrix2)"
   ]
  },
  {
   "cell_type": "markdown",
   "metadata": {},
   "source": [
    "Best score: 0.76 - no overfitting."
   ]
  }
 ],
 "metadata": {
  "kernelspec": {
   "display_name": "Python 3",
   "language": "python",
   "name": "python3"
  },
  "language_info": {
   "codemirror_mode": {
    "name": "ipython",
    "version": 3
   },
   "file_extension": ".py",
   "mimetype": "text/x-python",
   "name": "python",
   "nbconvert_exporter": "python",
   "pygments_lexer": "ipython3",
   "version": "3.11.7"
  }
 },
 "nbformat": 4,
 "nbformat_minor": 2
}
