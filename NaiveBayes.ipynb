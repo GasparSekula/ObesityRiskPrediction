{
 "cells": [
  {
   "cell_type": "markdown",
   "metadata": {},
   "source": [
    "## Naive Bayes \n",
    "## best score 0.66\n",
    "### 1. Libraries"
   ]
  },
  {
   "cell_type": "code",
   "execution_count": 1,
   "metadata": {},
   "outputs": [
    {
     "name": "stderr",
     "output_type": "stream",
     "text": [
      "c:\\Users\\Gaspar\\anaconda3\\lib\\site-packages\\scipy\\__init__.py:146: UserWarning: A NumPy version >=1.16.5 and <1.23.0 is required for this version of SciPy (detected version 1.26.4\n",
      "  warnings.warn(f\"A NumPy version >={np_minversion} and <{np_maxversion}\"\n"
     ]
    }
   ],
   "source": [
    "from sklearn.naive_bayes import GaussianNB\n",
    "import pandas as pd\n",
    "import numpy as np\n",
    "import seaborn as sns\n",
    "import matplotlib.pyplot as plt\n",
    "from sklearn.compose import ColumnTransformer\n",
    "from sklearn.pipeline import Pipeline\n",
    "from sklearn.preprocessing import FunctionTransformer, LabelEncoder\n",
    "from sklearn.metrics import classification_report, confusion_matrix\n",
    "from sklearn.model_selection import GridSearchCV"
   ]
  },
  {
   "cell_type": "markdown",
   "metadata": {},
   "source": [
    "### 2. Data"
   ]
  },
  {
   "cell_type": "code",
   "execution_count": 2,
   "metadata": {},
   "outputs": [],
   "source": [
    "train = pd.read_csv('Data/our_train.csv')\n",
    "test = pd.read_csv('Data/our_test.csv')\n",
    "val = pd.read_csv('Data/our_val.csv')\n",
    "df = pd.read_csv('Data/train.csv')\n",
    "\n",
    "X_train = train.drop('NObeyesdad', axis=1)\n",
    "y_train = train['NObeyesdad']\n",
    "X_test = test.drop('NObeyesdad', axis=1)\n",
    "y_test = test['NObeyesdad']\n",
    "X_val = val.drop('NObeyesdad', axis=1)\n",
    "y_val = val['NObeyesdad']\n",
    "\n",
    "CAEC_dict = {'no': 0, 'Sometimes': 0.33, 'Frequently': 0.66, 'Always': 1 }\n",
    "CALC_dict = {'no': 0, 'Sometimes': 0.5, 'Frequently': 1}\n",
    "X_train['CAEC'] = X_train['CAEC'].map(CAEC_dict)\n",
    "X_train['CALC'] = X_train['CALC'].map(CALC_dict)\n",
    "X_test['CAEC'] = X_test['CAEC'].map(CAEC_dict)\n",
    "X_test['CALC'] = X_test['CALC'].map(CALC_dict)\n",
    "X_val['CAEC'] = X_val['CAEC'].map(CAEC_dict)\n",
    "X_val['CALC'] = X_val['CALC'].map(CALC_dict)\n",
    "cat_cols2 = ['Gender', 'family_history_with_overweight', 'FAVC', 'SMOKE', 'SCC', 'MTRANS']\n",
    "\n",
    "from sklearn.preprocessing import LabelEncoder\n",
    "le = LabelEncoder()\n",
    "for col in cat_cols2:\n",
    "    X_train[col] = le.fit_transform(X_train[col])\n",
    "    X_test[col] = le.fit_transform(X_test[col])\n",
    "    X_val[col] = le.fit_transform(X_val[col])\n",
    "\n",
    "y_train = le.fit_transform(y_train)\n",
    "y_test = le.fit_transform(y_test)\n",
    "y_val = le.fit_transform(y_val)\n",
    "\n",
    "from sklearn.preprocessing import StandardScaler\n",
    "scaler = StandardScaler()\n",
    "X_train = scaler.fit_transform(X_train)\n",
    "X_test = scaler.transform(X_test)\n",
    "X_val = scaler.transform(X_val)"
   ]
  },
  {
   "cell_type": "markdown",
   "metadata": {},
   "source": [
    "### 3. Random parameters"
   ]
  },
  {
   "cell_type": "code",
   "execution_count": 4,
   "metadata": {},
   "outputs": [
    {
     "name": "stdout",
     "output_type": "stream",
     "text": [
      "Classification report: \n",
      "               precision    recall  f1-score   support\n",
      "\n",
      "           0       0.69      0.84      0.76       525\n",
      "           1       0.62      0.45      0.52       624\n",
      "           2       0.39      0.63      0.48       604\n",
      "           3       0.72      0.93      0.81       714\n",
      "           4       0.95      1.00      0.97       837\n",
      "           5       0.63      0.31      0.42       532\n",
      "           6       0.54      0.24      0.34       523\n",
      "\n",
      "    accuracy                           0.66      4359\n",
      "   macro avg       0.65      0.63      0.61      4359\n",
      "weighted avg       0.67      0.66      0.64      4359\n",
      "\n",
      "Confusion matrix: \n",
      " [[442  42  30   0   6   5   0]\n",
      " [180 281  67   2  25  43  26]\n",
      " [  2   2 379 161   8  25  27]\n",
      " [  0   0  44 662   0   0   8]\n",
      " [  1   0   0   1 833   2   0]\n",
      " [ 19  79 195  26   1 166  46]\n",
      " [  1  49 258  63   1  24 127]]\n"
     ]
    }
   ],
   "source": [
    "nb = GaussianNB()\n",
    "nb.fit(X_train, y_train)\n",
    "y_pred1 = nb.predict(X_val)\n",
    "class_report1 = classification_report(y_val, y_pred1)\n",
    "print(\"Classification report: \\n\", class_report1)\n",
    "conf_matrix1 = confusion_matrix(y_val, y_pred1)\n",
    "print(\"Confusion matrix: \\n\", conf_matrix1)"
   ]
  },
  {
   "cell_type": "markdown",
   "metadata": {},
   "source": [
    "Score: 0.66"
   ]
  },
  {
   "cell_type": "markdown",
   "metadata": {},
   "source": [
    "### 4. Hyperparameter tuning"
   ]
  },
  {
   "cell_type": "code",
   "execution_count": 5,
   "metadata": {},
   "outputs": [
    {
     "name": "stdout",
     "output_type": "stream",
     "text": [
      "Fitting 3 folds for each of 100 candidates, totalling 300 fits\n",
      "Best parameters:  {'var_smoothing': 0.006579332246575682}\n",
      "Best score:  0.6577424609194437\n"
     ]
    }
   ],
   "source": [
    "nb = GaussianNB()\n",
    "\n",
    "param_grid = {'var_smoothing': np.logspace(0,-9, num=100)}\n",
    "\n",
    "grid_search = GridSearchCV(estimator = nb, param_grid = param_grid, scoring=\"accuracy\", n_jobs=-1, cv=3, verbose=2)\n",
    "grid_search.fit(X_train, y_train)\n",
    "\n",
    "best_params = grid_search.best_params_\n",
    "print(\"Best parameters: \", best_params)\n",
    "\n",
    "best_score = grid_search.best_score_\n",
    "print(\"Best score: \", best_score)"
   ]
  },
  {
   "cell_type": "markdown",
   "metadata": {},
   "source": [
    "Best parameters:  {'var_smoothing': 0.006579332246575682}  \n",
    "Best score:  0.6577424609194437"
   ]
  },
  {
   "cell_type": "markdown",
   "metadata": {},
   "source": [
    "### 5. Best model"
   ]
  },
  {
   "cell_type": "code",
   "execution_count": 6,
   "metadata": {},
   "outputs": [
    {
     "name": "stdout",
     "output_type": "stream",
     "text": [
      "Classification report: \n",
      "               precision    recall  f1-score   support\n",
      "\n",
      "           0       0.68      0.84      0.75       525\n",
      "           1       0.62      0.44      0.52       624\n",
      "           2       0.39      0.64      0.49       604\n",
      "           3       0.73      0.92      0.82       714\n",
      "           4       0.94      1.00      0.97       837\n",
      "           5       0.63      0.31      0.41       532\n",
      "           6       0.54      0.24      0.34       523\n",
      "\n",
      "    accuracy                           0.66      4359\n",
      "   macro avg       0.65      0.63      0.61      4359\n",
      "weighted avg       0.67      0.66      0.64      4359\n",
      "\n",
      "Confusion matrix: \n",
      " [[443  41  30   0   6   5   0]\n",
      " [183 276  69   2  25  43  26]\n",
      " [  2   3 389 150   9  24  27]\n",
      " [  0   0  47 659   0   0   8]\n",
      " [  1   0   0   1 833   2   0]\n",
      " [ 21  75 192  26   8 164  46]\n",
      " [  2  49 260  60   2  23 127]]\n"
     ]
    }
   ],
   "source": [
    "best = GaussianNB(var_smoothing=0.006579332246575682)\n",
    "best.fit(X_train, y_train)\n",
    "y_pred2 = best.predict(X_val)\n",
    "class_report2 = classification_report(y_val, y_pred2)\n",
    "print(\"Classification report: \\n\", class_report2)\n",
    "conf_matrix2 = confusion_matrix(y_val, y_pred2)\n",
    "print(\"Confusion matrix: \\n\", conf_matrix2)"
   ]
  },
  {
   "cell_type": "markdown",
   "metadata": {},
   "source": [
    "Best score: 0.66"
   ]
  }
 ],
 "metadata": {
  "kernelspec": {
   "display_name": "Python 3",
   "language": "python",
   "name": "python3"
  },
  "language_info": {
   "codemirror_mode": {
    "name": "ipython",
    "version": 3
   },
   "file_extension": ".py",
   "mimetype": "text/x-python",
   "name": "python",
   "nbconvert_exporter": "python",
   "pygments_lexer": "ipython3",
   "version": "3.9.12"
  }
 },
 "nbformat": 4,
 "nbformat_minor": 2
}
