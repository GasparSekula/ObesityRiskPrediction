{
 "cells": [
  {
   "cell_type": "markdown",
   "metadata": {},
   "source": [
    "## Decision Tree \n",
    "## best score 0.86"
   ]
  },
  {
   "cell_type": "markdown",
   "metadata": {},
   "source": [
    "### 1. Libraries\n"
   ]
  },
  {
   "cell_type": "code",
   "execution_count": 1,
   "metadata": {},
   "outputs": [],
   "source": [
    "import pandas as pd\n",
    "import numpy as np\n",
    "import seaborn as sns\n",
    "import matplotlib.pyplot as plt\n",
    "from sklearn.compose import ColumnTransformer\n",
    "from sklearn.pipeline import Pipeline\n",
    "from sklearn.preprocessing import FunctionTransformer, LabelEncoder\n",
    "from sklearn.tree import DecisionTreeClassifier\n",
    "from sklearn.metrics import classification_report, confusion_matrix\n",
    "from sklearn.model_selection import GridSearchCV"
   ]
  },
  {
   "cell_type": "markdown",
   "metadata": {},
   "source": [
    "### 2. Data"
   ]
  },
  {
   "cell_type": "code",
   "execution_count": 2,
   "metadata": {},
   "outputs": [],
   "source": [
    "train = pd.read_csv('Data/train_with_BMI.csv')\n",
    "test = pd.read_csv('Data/test_with_BMI.csv')\n",
    "val = pd.read_csv('Data/val_with_BMI.csv')\n",
    "\n",
    "X_train = train.drop('NObeyesdad', axis=1)\n",
    "y_train = train['NObeyesdad']\n",
    "X_test = test.drop('NObeyesdad', axis=1)\n",
    "y_test = test['NObeyesdad']\n",
    "X_val = val.drop('NObeyesdad', axis=1)\n",
    "y_val = val['NObeyesdad']"
   ]
  },
  {
   "cell_type": "markdown",
   "metadata": {},
   "source": [
    "### 3. Random parameters"
   ]
  },
  {
   "cell_type": "code",
   "execution_count": 3,
   "metadata": {},
   "outputs": [
    {
     "name": "stdout",
     "output_type": "stream",
     "text": [
      "Classification report:\n",
      "               precision    recall  f1-score   support\n",
      "\n",
      "           0       0.88      0.83      0.85       525\n",
      "           1       0.75      0.77      0.76       624\n",
      "           2       0.76      0.74      0.75       604\n",
      "           3       0.90      0.92      0.91       714\n",
      "           4       0.99      1.00      0.99       837\n",
      "           5       0.62      0.63      0.63       532\n",
      "           6       0.64      0.65      0.65       523\n",
      "\n",
      "    accuracy                           0.81      4359\n",
      "   macro avg       0.79      0.79      0.79      4359\n",
      "weighted avg       0.81      0.81      0.81      4359\n",
      "\n",
      "Confusion matrix:\n",
      " [[434  79   1   0   0   9   2]\n",
      " [ 54 482   3   0   0  71  14]\n",
      " [  2   3 446  48   5  36  64]\n",
      " [  0   0  38 657   3   1  15]\n",
      " [  0   1   2   1 833   0   0]\n",
      " [  2  62  35   0   3 336  94]\n",
      " [  1  15  61  20   0  87 339]]\n"
     ]
    }
   ],
   "source": [
    "dt = DecisionTreeClassifier(random_state=42)\n",
    "dt.fit(X_train, y_train)\n",
    "y_pred1 = dt.predict(X_val)\n",
    "class_report1 = classification_report(y_val, y_pred1)\n",
    "print(\"Classification report:\\n\", class_report1)\n",
    "\n",
    "conf_matrix1 = confusion_matrix(y_val, y_pred1)\n",
    "print(\"Confusion matrix:\\n\", conf_matrix1)"
   ]
  },
  {
   "cell_type": "markdown",
   "metadata": {},
   "source": [
    "Score: 0.81"
   ]
  },
  {
   "cell_type": "markdown",
   "metadata": {},
   "source": [
    "### 4. Hyperparameters tuning"
   ]
  },
  {
   "cell_type": "code",
   "execution_count": 4,
   "metadata": {},
   "outputs": [
    {
     "name": "stdout",
     "output_type": "stream",
     "text": [
      "Fitting 3 folds for each of 450 candidates, totalling 1350 fits\n",
      "Best parameters:  {'criterion': 'gini', 'max_depth': 10, 'max_leaf_nodes': 100, 'min_samples_split': 5}\n",
      "Best score:  0.8585002323721816\n",
      "Best model cross-validation results:  0.8585002323721816\n"
     ]
    }
   ],
   "source": [
    "dt = DecisionTreeClassifier(random_state=42)\n",
    "\n",
    "param_grid = dict(criterion=['gini', 'entropy',\n",
    " 'log_loss'],\n",
    "            max_depth=[1, 5, 10, 50, 75, 100],\n",
    "            min_samples_split=[5, 10, 100, 250, 500],\n",
    "            max_leaf_nodes=[5, 10, 20, 50, 100])\n",
    "\n",
    "grid_search = GridSearchCV(estimator = dt, param_grid = param_grid, scoring=\"accuracy\", n_jobs=-1, cv=3, verbose=2)\n",
    "grid_search.fit(X_train, y_train)\n",
    "\n",
    "best_params = grid_search.best_params_\n",
    "best_score = grid_search.best_score_\n",
    "cv_results = grid_search.cv_results_\n",
    "\n",
    "print(\"Best parameters: \", best_params)\n",
    "print(\"Best score: \", best_score)\n",
    "print(\"Best model cross-validation results: \", cv_results['mean_test_score'][grid_search.best_index_])"
   ]
  },
  {
   "cell_type": "markdown",
   "metadata": {},
   "source": [
    "Best parameters:  {'criterion': 'gini', 'max_depth': 10, 'max_leaf_nodes': 100, 'min_samples_split': 5}  \n",
    "Best score:  0.8592575235644487  \n",
    "Cross-validation results:  0.8592575235644487  \n",
    "No overfitting."
   ]
  },
  {
   "cell_type": "markdown",
   "metadata": {},
   "source": [
    "### 5. Best model - test"
   ]
  },
  {
   "cell_type": "code",
   "execution_count": 5,
   "metadata": {},
   "outputs": [
    {
     "name": "stdout",
     "output_type": "stream",
     "text": [
      "Classification report:\n",
      "               precision    recall  f1-score   support\n",
      "\n",
      "           0       0.94      0.90      0.92       525\n",
      "           1       0.82      0.87      0.84       624\n",
      "           2       0.84      0.80      0.82       604\n",
      "           3       0.93      0.94      0.94       714\n",
      "           4       1.00      1.00      1.00       837\n",
      "           5       0.69      0.70      0.69       532\n",
      "           6       0.72      0.72      0.72       523\n",
      "\n",
      "    accuracy                           0.86      4359\n",
      "   macro avg       0.85      0.85      0.85      4359\n",
      "weighted avg       0.86      0.86      0.86      4359\n",
      "\n",
      "Confusion matrix:\n",
      " [[475  45   0   0   0   3   2]\n",
      " [ 27 540   1   0   0  49   7]\n",
      " [  2   1 482  41   3  27  48]\n",
      " [  0   0  33 672   1   0   8]\n",
      " [  1   0   2   1 833   0   0]\n",
      " [  1  64  15   0   0 370  82]\n",
      " [  1  11  42   9   0  86 374]]\n"
     ]
    }
   ],
   "source": [
    "best = DecisionTreeClassifier(criterion='gini', max_depth=50, min_samples_split=5, max_leaf_nodes=100, random_state=42)\n",
    "best.fit(X_train, y_train)\n",
    "y_pred2 = best.predict(X_val)\n",
    "class_report2 = classification_report(y_val, y_pred2)\n",
    "print(\"Classification report:\\n\", class_report2)\n",
    "conf_matrix2 = confusion_matrix(y_val, y_pred2)\n",
    "print(\"Confusion matrix:\\n\", conf_matrix2)"
   ]
  },
  {
   "cell_type": "markdown",
   "metadata": {},
   "source": [
    "No overfitting."
   ]
  }
 ],
 "metadata": {
  "kernelspec": {
   "display_name": "Python 3",
   "language": "python",
   "name": "python3"
  },
  "language_info": {
   "codemirror_mode": {
    "name": "ipython",
    "version": 3
   },
   "file_extension": ".py",
   "mimetype": "text/x-python",
   "name": "python",
   "nbconvert_exporter": "python",
   "pygments_lexer": "ipython3",
   "version": "3.11.7"
  }
 },
 "nbformat": 4,
 "nbformat_minor": 2
}
