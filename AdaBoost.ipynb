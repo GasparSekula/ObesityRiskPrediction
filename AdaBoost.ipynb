{
 "cells": [
  {
   "cell_type": "markdown",
   "metadata": {},
   "source": [
    "## Ada Boost\n",
    "## best score 0.56\n",
    "### 1. Libraries"
   ]
  },
  {
   "cell_type": "code",
   "execution_count": 1,
   "metadata": {},
   "outputs": [
    {
     "name": "stderr",
     "output_type": "stream",
     "text": [
      "c:\\Users\\Gaspar\\anaconda3\\lib\\site-packages\\scipy\\__init__.py:146: UserWarning: A NumPy version >=1.16.5 and <1.23.0 is required for this version of SciPy (detected version 1.26.4\n",
      "  warnings.warn(f\"A NumPy version >={np_minversion} and <{np_maxversion}\"\n"
     ]
    }
   ],
   "source": [
    "import pandas as pd\n",
    "import numpy as np\n",
    "import seaborn as sns\n",
    "import matplotlib.pyplot as plt\n",
    "from sklearn.compose import ColumnTransformer\n",
    "from sklearn.pipeline import Pipeline\n",
    "from sklearn.preprocessing import FunctionTransformer, LabelEncoder\n",
    "from sklearn.metrics import classification_report, confusion_matrix\n",
    "from sklearn.model_selection import GridSearchCV\n",
    "from sklearn.ensemble import AdaBoostClassifier"
   ]
  },
  {
   "cell_type": "markdown",
   "metadata": {},
   "source": [
    "### 2. Data"
   ]
  },
  {
   "cell_type": "code",
   "execution_count": 2,
   "metadata": {},
   "outputs": [],
   "source": [
    "train = pd.read_csv('Data/our_train.csv')\n",
    "test = pd.read_csv('Data/our_test.csv')\n",
    "val = pd.read_csv('Data/our_val.csv')\n",
    "df = pd.read_csv('Data/train.csv')\n",
    "\n",
    "X_train = train.drop('NObeyesdad', axis=1)\n",
    "y_train = train['NObeyesdad']\n",
    "X_test = test.drop('NObeyesdad', axis=1)\n",
    "y_test = test['NObeyesdad']\n",
    "X_val = val.drop('NObeyesdad', axis=1)\n",
    "y_val = val['NObeyesdad']\n",
    "\n",
    "CAEC_dict = {'no': 0, 'Sometimes': 0.33, 'Frequently': 0.66, 'Always': 1 }\n",
    "CALC_dict = {'no': 0, 'Sometimes': 0.5, 'Frequently': 1}\n",
    "X_train['CAEC'] = X_train['CAEC'].map(CAEC_dict)\n",
    "X_train['CALC'] = X_train['CALC'].map(CALC_dict)\n",
    "X_test['CAEC'] = X_test['CAEC'].map(CAEC_dict)\n",
    "X_test['CALC'] = X_test['CALC'].map(CALC_dict)\n",
    "X_val['CAEC'] = X_val['CAEC'].map(CAEC_dict)\n",
    "X_val['CALC'] = X_val['CALC'].map(CALC_dict)\n",
    "cat_cols2 = ['Gender', 'family_history_with_overweight', 'FAVC', 'SMOKE', 'SCC', 'MTRANS']\n",
    "\n",
    "from sklearn.preprocessing import LabelEncoder\n",
    "le = LabelEncoder()\n",
    "for col in cat_cols2:\n",
    "    X_train[col] = le.fit_transform(X_train[col])\n",
    "    X_test[col] = le.fit_transform(X_test[col])\n",
    "    X_val[col] = le.fit_transform(X_val[col])\n",
    "\n",
    "y_train = le.fit_transform(y_train)\n",
    "y_test = le.fit_transform(y_test)\n",
    "y_val = le.fit_transform(y_val)\n",
    "\n",
    "from sklearn.preprocessing import StandardScaler\n",
    "scaler = StandardScaler()\n",
    "X_train = scaler.fit_transform(X_train)\n",
    "X_test = scaler.transform(X_test)\n",
    "X_val = scaler.transform(X_val)"
   ]
  },
  {
   "cell_type": "markdown",
   "metadata": {},
   "source": [
    "### 3. Random parameters"
   ]
  },
  {
   "cell_type": "code",
   "execution_count": 3,
   "metadata": {},
   "outputs": [
    {
     "name": "stdout",
     "output_type": "stream",
     "text": [
      "Classification Report for AdaBoost Classifier: \n",
      "               precision    recall  f1-score   support\n",
      "\n",
      "           0       0.64      0.15      0.24       525\n",
      "           1       0.41      0.63      0.50       624\n",
      "           2       0.50      0.00      0.00       604\n",
      "           3       0.41      0.98      0.58       714\n",
      "           4       0.00      0.00      0.00       837\n",
      "           5       0.56      0.53      0.54       532\n",
      "           6       0.42      0.86      0.57       523\n",
      "\n",
      "    accuracy                           0.44      4359\n",
      "   macro avg       0.42      0.45      0.35      4359\n",
      "weighted avg       0.39      0.44      0.33      4359\n",
      "\n",
      "Confusion Matrix for AdaBoost Classifier: \n",
      " [[ 79 444   0   0   0   1   1]\n",
      " [ 39 392   0   0   0 176  17]\n",
      " [  0   3   1 171   0  11 418]\n",
      " [  0   0   1 701   0   0  12]\n",
      " [  0   1   0 835   0   0   1]\n",
      " [  3  85   0   0   0 281 163]\n",
      " [  2  30   0   6   0  33 452]]\n"
     ]
    },
    {
     "name": "stderr",
     "output_type": "stream",
     "text": [
      "c:\\Users\\Gaspar\\anaconda3\\lib\\site-packages\\sklearn\\metrics\\_classification.py:1318: UndefinedMetricWarning: Precision and F-score are ill-defined and being set to 0.0 in labels with no predicted samples. Use `zero_division` parameter to control this behavior.\n",
      "  _warn_prf(average, modifier, msg_start, len(result))\n",
      "c:\\Users\\Gaspar\\anaconda3\\lib\\site-packages\\sklearn\\metrics\\_classification.py:1318: UndefinedMetricWarning: Precision and F-score are ill-defined and being set to 0.0 in labels with no predicted samples. Use `zero_division` parameter to control this behavior.\n",
      "  _warn_prf(average, modifier, msg_start, len(result))\n",
      "c:\\Users\\Gaspar\\anaconda3\\lib\\site-packages\\sklearn\\metrics\\_classification.py:1318: UndefinedMetricWarning: Precision and F-score are ill-defined and being set to 0.0 in labels with no predicted samples. Use `zero_division` parameter to control this behavior.\n",
      "  _warn_prf(average, modifier, msg_start, len(result))\n"
     ]
    }
   ],
   "source": [
    "ab = AdaBoostClassifier()\n",
    "ab.fit(X_train, y_train)\n",
    "y_pred1 = ab.predict(X_val)\n",
    "class_report1 = classification_report(y_val, y_pred1)\n",
    "print(\"Classification Report for AdaBoost Classifier: \\n\", class_report1)\n",
    "cm1 = confusion_matrix(y_val, y_pred1)\n",
    "print(\"Confusion Matrix for AdaBoost Classifier: \\n\", cm1)"
   ]
  },
  {
   "cell_type": "markdown",
   "metadata": {},
   "source": [
    "Score: 0.44"
   ]
  },
  {
   "cell_type": "markdown",
   "metadata": {},
   "source": [
    "### 4. Hyperparameter tuning"
   ]
  },
  {
   "cell_type": "code",
   "execution_count": 5,
   "metadata": {},
   "outputs": [
    {
     "name": "stdout",
     "output_type": "stream",
     "text": [
      "Fitting 3 folds for each of 20 candidates, totalling 60 fits\n",
      "Best parameters:  {'learning_rate': 0.1, 'n_estimators': 500}\n",
      "Best score:  0.4820459454109236\n"
     ]
    }
   ],
   "source": [
    "ab = AdaBoostClassifier()\n",
    "\n",
    "param_grid = {'n_estimators' : [10, 50, 100, 500],\n",
    "'learning_rate' : [0.0001, 0.001, 0.01, 0.1, 1.0]}\n",
    "\n",
    "\n",
    "grid_search = GridSearchCV(estimator = ab, param_grid = param_grid, scoring=\"accuracy\", n_jobs=-1, cv=3, verbose=2)\n",
    "grid_search.fit(X_train, y_train)\n",
    "\n",
    "best_params = grid_search.best_params_\n",
    "print(\"Best parameters: \", best_params)\n",
    "\n",
    "best_score = grid_search.best_score_\n",
    "print(\"Best score: \", best_score)"
   ]
  },
  {
   "cell_type": "markdown",
   "metadata": {},
   "source": [
    "Best parameters:  {'learning_rate': 0.1, 'n_estimators': 500}  \n",
    "Best score:  0.4820459454109236"
   ]
  },
  {
   "cell_type": "markdown",
   "metadata": {},
   "source": [
    "### 5. Best model"
   ]
  },
  {
   "cell_type": "code",
   "execution_count": 6,
   "metadata": {},
   "outputs": [
    {
     "name": "stdout",
     "output_type": "stream",
     "text": [
      "Classification report: \n",
      "               precision    recall  f1-score   support\n",
      "\n",
      "           0       0.64      0.15      0.24       525\n",
      "           1       0.33      0.83      0.47       624\n",
      "           2       0.50      0.35      0.41       604\n",
      "           3       0.66      0.91      0.77       714\n",
      "           4       0.98      0.91      0.94       837\n",
      "           5       0.32      0.16      0.21       532\n",
      "           6       0.66      0.29      0.40       523\n",
      "\n",
      "    accuracy                           0.56      4359\n",
      "   macro avg       0.58      0.51      0.49      4359\n",
      "weighted avg       0.61      0.56      0.53      4359\n",
      "\n",
      "Confusion matrix: \n",
      " [[ 79 365   1   0   0  80   0]\n",
      " [ 39 516   0   2   3  61   3]\n",
      " [  0  89 210 263   6   1  35]\n",
      " [  0   1  62 648   3   0   0]\n",
      " [  0   0  73   0 763   1   0]\n",
      " [  3 364  13  26   2  84  40]\n",
      " [  2 234  61  41   2  33 150]]\n"
     ]
    }
   ],
   "source": [
    "best = AdaBoostClassifier(n_estimators=500, learning_rate=0.1)\n",
    "best.fit(X_train, y_train)\n",
    "y_pred2 = best.predict(X_val)\n",
    "class_report2 = classification_report(y_val, y_pred2)\n",
    "print(\"Classification report: \\n\", class_report2)\n",
    "conf_matrix2 = confusion_matrix(y_val, y_pred2)\n",
    "print(\"Confusion matrix: \\n\", conf_matrix2)"
   ]
  }
 ],
 "metadata": {
  "kernelspec": {
   "display_name": "Python 3",
   "language": "python",
   "name": "python3"
  },
  "language_info": {
   "codemirror_mode": {
    "name": "ipython",
    "version": 3
   },
   "file_extension": ".py",
   "mimetype": "text/x-python",
   "name": "python",
   "nbconvert_exporter": "python",
   "pygments_lexer": "ipython3",
   "version": "3.9.12"
  }
 },
 "nbformat": 4,
 "nbformat_minor": 2
}
