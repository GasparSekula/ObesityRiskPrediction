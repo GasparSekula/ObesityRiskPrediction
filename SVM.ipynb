{
 "cells": [
  {
   "cell_type": "markdown",
   "metadata": {},
   "source": [
    "SVM"
   ]
  },
  {
   "cell_type": "markdown",
   "metadata": {},
   "source": [
    "Best score 0.86"
   ]
  },
  {
   "cell_type": "code",
   "execution_count": 1,
   "metadata": {},
   "outputs": [],
   "source": [
    "import pandas as pd\n",
    "import numpy as np\n",
    "import seaborn as sns\n",
    "import matplotlib.pyplot as plt\n",
    "from sklearn.metrics import classification_report, confusion_matrix\n",
    "from sklearn.model_selection import GridSearchCV\n",
    "from sklearn.svm import SVC"
   ]
  },
  {
   "cell_type": "code",
   "execution_count": 2,
   "metadata": {},
   "outputs": [],
   "source": [
    "train = pd.read_csv('Data/selected_train.csv')\n",
    "test = pd.read_csv('Data/selected_test.csv')\n",
    "val = pd.read_csv('Data/selected_val.csv')"
   ]
  },
  {
   "cell_type": "code",
   "execution_count": 3,
   "metadata": {},
   "outputs": [],
   "source": [
    "X_train = train.drop('NObeyesdad', axis=1)\n",
    "y_train = train['NObeyesdad']\n",
    "X_test = test.drop('NObeyesdad', axis=1)\n",
    "y_test = test['NObeyesdad']\n",
    "X_val = val.drop('NObeyesdad', axis=1)\n",
    "y_val = val['NObeyesdad']"
   ]
  },
  {
   "cell_type": "code",
   "execution_count": 4,
   "metadata": {},
   "outputs": [
    {
     "name": "stdout",
     "output_type": "stream",
     "text": [
      "Fitting 3 folds for each of 36 candidates, totalling 108 fits\n"
     ]
    },
    {
     "name": "stderr",
     "output_type": "stream",
     "text": [
      "[Parallel(n_jobs=-1)]: Using backend LokyBackend with 8 concurrent workers.\n",
      "[Parallel(n_jobs=-1)]: Done  25 tasks      | elapsed:   29.3s\n",
      "[Parallel(n_jobs=-1)]: Done 108 out of 108 | elapsed:  2.2min finished\n"
     ]
    },
    {
     "name": "stdout",
     "output_type": "stream",
     "text": [
      "Best parameters found:  {'C': 100, 'gamma': 0.01, 'kernel': 'rbf'}\n",
      "Best score found:  0.8614593899418908\n"
     ]
    }
   ],
   "source": [
    "param_grid = {\n",
    "    'C': [ 0.1, 1, 10, 100],\n",
    "    'gamma': [ 0.1, 0.01, 0.001],\n",
    "    'kernel': ['linear', 'rbf', 'poly']\n",
    "}\n",
    "\n",
    "\n",
    "svm = SVC()\n",
    "\n",
    "\n",
    "grid_search = GridSearchCV(estimator=svm, param_grid=param_grid, cv=3, verbose=2, n_jobs=-1)\n",
    "\n",
    "\n",
    "grid_search.fit(X_train, y_train)\n",
    "\n",
    "\n",
    "print(\"Best parameters found: \", grid_search.best_params_)\n",
    "print(\"Best score found: \", grid_search.best_score_)"
   ]
  },
  {
   "cell_type": "code",
   "execution_count": 5,
   "metadata": {},
   "outputs": [
    {
     "name": "stdout",
     "output_type": "stream",
     "text": [
      "Classification report:\n",
      "               precision    recall  f1-score   support\n",
      "\n",
      "           0       0.91      0.91      0.91       525\n",
      "           1       0.83      0.83      0.83       624\n",
      "           2       0.82      0.78      0.80       604\n",
      "           3       0.93      0.96      0.94       714\n",
      "           4       0.99      1.00      1.00       837\n",
      "           5       0.70      0.72      0.71       532\n",
      "           6       0.71      0.69      0.70       523\n",
      "\n",
      "    accuracy                           0.86      4359\n",
      "   macro avg       0.84      0.84      0.84      4359\n",
      "weighted avg       0.86      0.86      0.86      4359\n",
      "\n",
      "Confusion matrix: \n",
      " [[479  40   0   0   0   3   3]\n",
      " [ 42 520   1   0   0  56   5]\n",
      " [  2   3 473  43   5  20  58]\n",
      " [  0   0  25 685   0   0   4]\n",
      " [  1   0   0   1 834   1   0]\n",
      " [  0  54  20   0   0 384  74]\n",
      " [  0  12  55   8   0  87 361]]\n"
     ]
    }
   ],
   "source": [
    "svm = SVC(C = 100, gamma= 0.01, kernel='rbf')\n",
    "svm.fit(X_train, y_train)\n",
    "predictions = svm.predict(X_val)\n",
    "print('Classification report:\\n' , classification_report(y_val, predictions))\n",
    "print('Confusion matrix: \\n', confusion_matrix(y_val, predictions))"
   ]
  },
  {
   "cell_type": "code",
   "execution_count": 9,
   "metadata": {},
   "outputs": [
    {
     "data": {
      "text/plain": [
       "0.8570773113099335"
      ]
     },
     "execution_count": 9,
     "metadata": {},
     "output_type": "execute_result"
    }
   ],
   "source": [
    "svm.score(X_val, y_val)"
   ]
  },
  {
   "cell_type": "code",
   "execution_count": null,
   "metadata": {},
   "outputs": [],
   "source": []
  }
 ],
 "metadata": {
  "kernelspec": {
   "display_name": "base",
   "language": "python",
   "name": "python3"
  },
  "language_info": {
   "codemirror_mode": {
    "name": "ipython",
    "version": 3
   },
   "file_extension": ".py",
   "mimetype": "text/x-python",
   "name": "python",
   "nbconvert_exporter": "python",
   "pygments_lexer": "ipython3",
   "version": "3.8.5"
  }
 },
 "nbformat": 4,
 "nbformat_minor": 2
}
