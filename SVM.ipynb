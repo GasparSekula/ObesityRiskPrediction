{
 "cells": [
  {
   "cell_type": "markdown",
   "metadata": {},
   "source": [
    "SVM"
   ]
  },
  {
   "cell_type": "markdown",
   "metadata": {},
   "source": [
    "Best score 0.86"
   ]
  },
  {
   "cell_type": "code",
   "execution_count": 1,
   "metadata": {},
   "outputs": [],
   "source": [
    "import pandas as pd\n",
    "import numpy as np\n",
    "import seaborn as sns\n",
    "import matplotlib.pyplot as plt\n",
    "from sklearn.metrics import classification_report, confusion_matrix\n",
    "from sklearn.model_selection import GridSearchCV\n",
    "from sklearn.svm import SVC"
   ]
  },
  {
   "cell_type": "code",
   "execution_count": 5,
   "metadata": {},
   "outputs": [],
   "source": [
    "train = pd.read_csv('Data/train_with_BMI.csv')\n",
    "test = pd.read_csv('Data/test_with_BMI.csv')\n",
    "val = pd.read_csv('Data/val_with_BMI.csv')"
   ]
  },
  {
   "cell_type": "code",
   "execution_count": 6,
   "metadata": {},
   "outputs": [],
   "source": [
    "X_train = train.drop('NObeyesdad', axis=1)\n",
    "y_train = train['NObeyesdad']\n",
    "X_test = test.drop('NObeyesdad', axis=1)\n",
    "y_test = test['NObeyesdad']\n",
    "X_val = val.drop('NObeyesdad', axis=1)\n",
    "y_val = val['NObeyesdad']"
   ]
  },
  {
   "cell_type": "code",
   "execution_count": 7,
   "metadata": {},
   "outputs": [
    {
     "name": "stdout",
     "output_type": "stream",
     "text": [
      "Fitting 3 folds for each of 36 candidates, totalling 108 fits\n"
     ]
    },
    {
     "name": "stderr",
     "output_type": "stream",
     "text": [
      "[Parallel(n_jobs=-1)]: Using backend LokyBackend with 8 concurrent workers.\n",
      "[Parallel(n_jobs=-1)]: Done  25 tasks      | elapsed:   42.4s\n",
      "[Parallel(n_jobs=-1)]: Done 108 out of 108 | elapsed:  3.8min finished\n"
     ]
    },
    {
     "name": "stdout",
     "output_type": "stream",
     "text": [
      "Best parameters found:  {'C': 10, 'gamma': 0.01, 'kernel': 'rbf'}\n",
      "Best score found:  0.8633865984821836\n"
     ]
    }
   ],
   "source": [
    "param_grid = {\n",
    "    'C': [ 0.1, 1, 10, 100],\n",
    "    'gamma': [ 0.1, 0.01, 0.001],\n",
    "    'kernel': ['linear', 'rbf', 'poly']\n",
    "}\n",
    "\n",
    "\n",
    "svm = SVC()\n",
    "\n",
    "\n",
    "grid_search = GridSearchCV(estimator=svm, param_grid=param_grid, cv=3, verbose=2, n_jobs=-1)\n",
    "\n",
    "\n",
    "grid_search.fit(X_train, y_train)\n",
    "\n",
    "\n",
    "print(\"Best parameters found: \", grid_search.best_params_)\n",
    "print(\"Best score found: \", grid_search.best_score_)"
   ]
  },
  {
   "cell_type": "markdown",
   "metadata": {},
   "source": [
    "Best parameters: C = 10, gamma = 0.01, kerner = rbf"
   ]
  },
  {
   "cell_type": "code",
   "execution_count": 8,
   "metadata": {},
   "outputs": [
    {
     "name": "stdout",
     "output_type": "stream",
     "text": [
      "Classification report:\n",
      "               precision    recall  f1-score   support\n",
      "\n",
      "           0       0.90      0.90      0.90       525\n",
      "           1       0.83      0.81      0.82       624\n",
      "           2       0.85      0.80      0.82       604\n",
      "           3       0.92      0.97      0.94       714\n",
      "           4       0.99      1.00      1.00       837\n",
      "           5       0.70      0.73      0.72       532\n",
      "           6       0.73      0.69      0.71       523\n",
      "\n",
      "    accuracy                           0.86      4359\n",
      "   macro avg       0.84      0.84      0.84      4359\n",
      "weighted avg       0.86      0.86      0.86      4359\n",
      "\n",
      "Confusion matrix: \n",
      " [[474  46   0   0   0   3   2]\n",
      " [ 50 507   0   0   0  60   7]\n",
      " [  2   1 485  46   5  22  43]\n",
      " [  0   0  17 692   0   0   5]\n",
      " [  1   0   0   1 834   0   1]\n",
      " [  0  45  20   0   0 391  76]\n",
      " [  0  14  51  15   0  83 360]]\n"
     ]
    }
   ],
   "source": [
    "# best model\n",
    "svm = SVC(C = 10, gamma= 0.01, kernel='rbf')\n",
    "svm.fit(X_train, y_train)\n",
    "predictions = svm.predict(X_val)\n",
    "print('Classification report:\\n' , classification_report(y_val, predictions))\n",
    "print('Confusion matrix: \\n', confusion_matrix(y_val, predictions))"
   ]
  },
  {
   "cell_type": "code",
   "execution_count": 9,
   "metadata": {},
   "outputs": [
    {
     "data": {
      "text/plain": [
       "0.8586831842165634"
      ]
     },
     "execution_count": 9,
     "metadata": {},
     "output_type": "execute_result"
    }
   ],
   "source": [
    "svm.score(X_val, y_val)"
   ]
  },
  {
   "cell_type": "code",
   "execution_count": null,
   "metadata": {},
   "outputs": [],
   "source": []
  }
 ],
 "metadata": {
  "kernelspec": {
   "display_name": "base",
   "language": "python",
   "name": "python3"
  },
  "language_info": {
   "codemirror_mode": {
    "name": "ipython",
    "version": 3
   },
   "file_extension": ".py",
   "mimetype": "text/x-python",
   "name": "python",
   "nbconvert_exporter": "python",
   "pygments_lexer": "ipython3",
   "version": "3.8.5"
  }
 },
 "nbformat": 4,
 "nbformat_minor": 2
}
