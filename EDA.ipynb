{
 "cells": [
  {
   "cell_type": "code",
   "execution_count": 2,
   "metadata": {},
   "outputs": [],
   "source": [
    "import pandas as pd"
   ]
  },
  {
   "cell_type": "code",
   "execution_count": 7,
   "metadata": {},
   "outputs": [],
   "source": [
    "train = pd.read_csv('Data/our_train.csv')\n",
    "test = pd.read_csv('Data/our_test.csv')\n",
    "val = pd.read_csv('Data/our_val.csv')\n",
    "df = pd.read_csv('Data/train.csv')"
   ]
  },
  {
   "cell_type": "code",
   "execution_count": 6,
   "metadata": {},
   "outputs": [],
   "source": [
    "X_train = train.drop('NObeyesdad', axis=1)\n",
    "y_train = train['NObeyesdad']\n",
    "X_test = test.drop('NObeyesdad', axis=1)\n",
    "y_test = test['NObeyesdad']\n",
    "X_val = val.drop('NObeyesdad', axis=1)\n",
    "y_val = val['NObeyesdad']"
   ]
  },
  {
   "cell_type": "code",
   "execution_count": 8,
   "metadata": {},
   "outputs": [
    {
     "name": "stdout",
     "output_type": "stream",
     "text": [
      "<class 'pandas.core.frame.DataFrame'>\n",
      "RangeIndex: 20758 entries, 0 to 20757\n",
      "Data columns (total 18 columns):\n",
      " #   Column                          Non-Null Count  Dtype  \n",
      "---  ------                          --------------  -----  \n",
      " 0   id                              20758 non-null  int64  \n",
      " 1   Gender                          20758 non-null  object \n",
      " 2   Age                             20758 non-null  float64\n",
      " 3   Height                          20758 non-null  float64\n",
      " 4   Weight                          20758 non-null  float64\n",
      " 5   family_history_with_overweight  20758 non-null  object \n",
      " 6   FAVC                            20758 non-null  object \n",
      " 7   FCVC                            20758 non-null  float64\n",
      " 8   NCP                             20758 non-null  float64\n",
      " 9   CAEC                            20758 non-null  object \n",
      " 10  SMOKE                           20758 non-null  object \n",
      " 11  CH2O                            20758 non-null  float64\n",
      " 12  SCC                             20758 non-null  object \n",
      " 13  FAF                             20758 non-null  float64\n",
      " 14  TUE                             20758 non-null  float64\n",
      " 15  CALC                            20758 non-null  object \n",
      " 16  MTRANS                          20758 non-null  object \n",
      " 17  NObeyesdad                      20758 non-null  object \n",
      "dtypes: float64(8), int64(1), object(9)\n",
      "memory usage: 2.9+ MB\n"
     ]
    }
   ],
   "source": [
    "df.info()"
   ]
  },
  {
   "cell_type": "markdown",
   "metadata": {},
   "source": [
    "- brak wartości NONE\n",
    "- kolumny nienumeryczne: \n",
    "    - Gender\n",
    "    - family_history_with_overweight\n",
    "    - FAVC\n",
    "    - CAEC\n",
    "    - SMOKE \n",
    "    - SCC\n",
    "    - CALC \n",
    "    - MTRANS\n",
    "    - NObeyesdad (nasz target)"
   ]
  },
  {
   "cell_type": "markdown",
   "metadata": {},
   "source": [
    "### Opisy kolumn\n",
    "**id**: This column appears to be an identifier for each individual or sample.  \n",
    "**Gender**: Indicates the gender of the individual (male, female, or potentially other).  \n",
    "**Age**: Represents the age of the individual. It's a float, which might indicate it includes decimal values for more precision.  \n",
    "**Height**: Refers to the height of the individual [m]   \n",
    "**Weight**: Denotes the weight of the individual, typically measured in kilograms or pounds.  \n",
    "**family_history_with_overweight**: Indicates whether the individual has a family history of overweight or obesity.  \n",
    "**FAVC**: Stands for \"Frequent consumption of high-caloric food\", indicating whether the individual frequently consumes high-caloric foods.  \n",
    "**FCVC**: Refers to the Frequency of Consumption of Vegetables.  \n",
    "**NCP**: Stands for \"Number of main meals\", likely indicating the number of main meals the individual consumes per day.  \n",
    "**CAEC**: Stands for \"Consumption of food between meals\", indicating the individual's eating habits between meals.  \n",
    "**SMOKE**: Indicates whether the individual is a smoker or not.  \n",
    "**CH2O**: Represents the amount of water the individual consumes daily, possibly measured in liters or milliliters.  \n",
    "**SCC**: Stands for \"Calories consumption monitoring\", indicating whether the individual monitors their calorie consumption.  \n",
    "**FAF**: Stands for \"Physical activity frequency\", indicating how frequently the individual engages in physical activity.  \n",
    "**TUE**: Stands for \"Time using technology devices\", indicating the amount of time the individual spends using technology devices.  \n",
    "**CALC**: Stands for \"Consumption of alcohol\", indicating the individual's alcohol consumption habits.  \n",
    "**MTRANS**: Indicates the mode of transportation used by the individual.  \n",
    "**NObeyesdad**: This column indicates the classification of the individual's obesity status or obesity level."
   ]
  },
  {
   "cell_type": "code",
   "execution_count": null,
   "metadata": {},
   "outputs": [],
   "source": []
  }
 ],
 "metadata": {
  "kernelspec": {
   "display_name": "base",
   "language": "python",
   "name": "python3"
  },
  "language_info": {
   "codemirror_mode": {
    "name": "ipython",
    "version": 3
   },
   "file_extension": ".py",
   "mimetype": "text/x-python",
   "name": "python",
   "nbconvert_exporter": "python",
   "pygments_lexer": "ipython3",
   "version": "3.9.12"
  }
 },
 "nbformat": 4,
 "nbformat_minor": 2
}
