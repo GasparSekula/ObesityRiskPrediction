{
 "cells": [
  {
   "cell_type": "code",
   "execution_count": 21,
   "metadata": {},
   "outputs": [],
   "source": [
    "import pandas as pd"
   ]
  },
  {
   "cell_type": "code",
   "execution_count": 22,
   "metadata": {},
   "outputs": [],
   "source": [
    "train = pd.read_csv('Data/our_train.csv')\n",
    "test = pd.read_csv('Data/our_test.csv')\n",
    "val = pd.read_csv('Data/our_val.csv')\n",
    "df = pd.read_csv('Data/train.csv')"
   ]
  },
  {
   "cell_type": "code",
   "execution_count": 23,
   "metadata": {},
   "outputs": [],
   "source": [
    "X_train = train.drop('NObeyesdad', axis=1)\n",
    "y_train = train['NObeyesdad']\n",
    "X_test = test.drop('NObeyesdad', axis=1)\n",
    "y_test = test['NObeyesdad']\n",
    "X_val = val.drop('NObeyesdad', axis=1)\n",
    "y_val = val['NObeyesdad']"
   ]
  },
  {
   "cell_type": "code",
   "execution_count": 24,
   "metadata": {},
   "outputs": [
    {
     "name": "stdout",
     "output_type": "stream",
     "text": [
      "<class 'pandas.core.frame.DataFrame'>\n",
      "RangeIndex: 20758 entries, 0 to 20757\n",
      "Data columns (total 18 columns):\n",
      " #   Column                          Non-Null Count  Dtype  \n",
      "---  ------                          --------------  -----  \n",
      " 0   id                              20758 non-null  int64  \n",
      " 1   Gender                          20758 non-null  object \n",
      " 2   Age                             20758 non-null  float64\n",
      " 3   Height                          20758 non-null  float64\n",
      " 4   Weight                          20758 non-null  float64\n",
      " 5   family_history_with_overweight  20758 non-null  object \n",
      " 6   FAVC                            20758 non-null  object \n",
      " 7   FCVC                            20758 non-null  float64\n",
      " 8   NCP                             20758 non-null  float64\n",
      " 9   CAEC                            20758 non-null  object \n",
      " 10  SMOKE                           20758 non-null  object \n",
      " 11  CH2O                            20758 non-null  float64\n",
      " 12  SCC                             20758 non-null  object \n",
      " 13  FAF                             20758 non-null  float64\n",
      " 14  TUE                             20758 non-null  float64\n",
      " 15  CALC                            20758 non-null  object \n",
      " 16  MTRANS                          20758 non-null  object \n",
      " 17  NObeyesdad                      20758 non-null  object \n",
      "dtypes: float64(8), int64(1), object(9)\n",
      "memory usage: 2.9+ MB\n"
     ]
    }
   ],
   "source": [
    "df.info()"
   ]
  },
  {
   "cell_type": "markdown",
   "metadata": {},
   "source": [
    "- brak wartości NONE\n",
    "- kolumny nienumeryczne: \n",
    "    - Gender\n",
    "    - family_history_with_overweight\n",
    "    - FAVC\n",
    "    - CAEC\n",
    "    - SMOKE \n",
    "    - SCC\n",
    "    - CALC \n",
    "    - MTRANS\n",
    "    - NObeyesdad (nasz target)"
   ]
  },
  {
   "cell_type": "code",
   "execution_count": 25,
   "metadata": {},
   "outputs": [],
   "source": [
    "#categorical columns\n",
    "cat_cols = ['Gender', 'family_history_with_overweight', 'FAVC', 'CAEC', 'SMOKE', 'SCC', 'CALC', 'MTRANS']"
   ]
  },
  {
   "cell_type": "markdown",
   "metadata": {},
   "source": [
    "### Opisy kolumn\n",
    "**id**: This column appears to be an identifier for each individual or sample.  \n",
    "**Gender**: Indicates the gender of the individual (male, female, or potentially other).  \n",
    "**Age**: Represents the age of the individual. It's a float, which might indicate it includes decimal values for more precision.  \n",
    "**Height**: Refers to the height of the individual [m]   \n",
    "**Weight**: Denotes the weight of the individual, typically measured in kilograms or pounds.  \n",
    "**family_history_with_overweight**: Indicates whether the individual has a family history of overweight or obesity.  \n",
    "**FAVC**: Stands for \"Frequent consumption of high-caloric food\", indicating whether the individual frequently consumes high-caloric foods.  \n",
    "**FCVC**: Refers to the Frequency of Consumption of Vegetables.  \n",
    "**NCP**: Stands for \"Number of main meals\", likely indicating the number of main meals the individual consumes per day.  \n",
    "**CAEC**: Stands for \"Consumption of food between meals\", indicating the individual's eating habits between meals.  \n",
    "**SMOKE**: Indicates whether the individual is a smoker or not.  \n",
    "**CH2O**: Represents the amount of water the individual consumes daily, possibly measured in liters or milliliters.  \n",
    "**SCC**: Stands for \"Calories consumption monitoring\", indicating whether the individual monitors their calorie consumption.  \n",
    "**FAF**: Stands for \"Physical activity frequency\", indicating how frequently the individual engages in physical activity.  \n",
    "**TUE**: Stands for \"Time using technology devices\", indicating the amount of time the individual spends using technology devices.  \n",
    "**CALC**: Stands for \"Consumption of alcohol\", indicating the individual's alcohol consumption habits.  \n",
    "**MTRANS**: Indicates the mode of transportation used by the individual.  \n",
    "**NObeyesdad**: This column indicates the classification of the individual's obesity status or obesity level."
   ]
  },
  {
   "cell_type": "code",
   "execution_count": 26,
   "metadata": {},
   "outputs": [
    {
     "data": {
      "text/plain": [
       "Obesity_Type_III       4046\n",
       "Obesity_Type_II        3248\n",
       "Normal_Weight          3082\n",
       "Obesity_Type_I         2910\n",
       "Insufficient_Weight    2523\n",
       "Overweight_Level_II    2522\n",
       "Overweight_Level_I     2427\n",
       "Name: NObeyesdad, dtype: int64"
      ]
     },
     "execution_count": 26,
     "metadata": {},
     "output_type": "execute_result"
    }
   ],
   "source": [
    "df['NObeyesdad'].value_counts()"
   ]
  },
  {
   "cell_type": "code",
   "execution_count": 41,
   "metadata": {},
   "outputs": [
    {
     "name": "stderr",
     "output_type": "stream",
     "text": [
      "/Users/mateuszdeptuch/opt/anaconda3/lib/python3.9/site-packages/seaborn/_decorators.py:36: FutureWarning: Pass the following variable as a keyword arg: x. From version 0.12, the only valid positional argument will be `data`, and passing other arguments without an explicit keyword will result in an error or misinterpretation.\n",
      "  warnings.warn(\n"
     ]
    },
    {
     "data": {
      "text/plain": [
       "<AxesSubplot:xlabel='NObeyesdad', ylabel='count'>"
      ]
     },
     "execution_count": 41,
     "metadata": {},
     "output_type": "execute_result"
    },
    {
     "data": {
      "image/png": "[encoded data removed]",
      "text/plain": [
       "<Figure size 720x432 with 1 Axes>"
      ]
     },
     "metadata": {
      "needs_background": "light"
     },
     "output_type": "display_data"
    }
   ],
   "source": [
    "#plotting the target variable\n",
    "import matplotlib.pyplot as plt\n",
    "import seaborn as sns\n",
    "plt.figure(figsize=(10, 6))\n",
    "sns.countplot(df['NObeyesdad'])"
   ]
  },
  {
   "cell_type": "markdown",
   "metadata": {},
   "source": [
    "po rowno wsm"
   ]
  },
  {
   "cell_type": "markdown",
   "metadata": {},
   "source": [
    "### categorial features brakdown"
   ]
  },
  {
   "cell_type": "code",
   "execution_count": 27,
   "metadata": {},
   "outputs": [
    {
     "name": "stdout",
     "output_type": "stream",
     "text": [
      "Gender ['Male' 'Female']\n",
      "family_history_with_overweight ['yes' 'no']\n",
      "FAVC ['yes' 'no']\n",
      "CAEC ['Sometimes' 'Frequently' 'no' 'Always']\n",
      "SMOKE ['no' 'yes']\n",
      "SCC ['no' 'yes']\n",
      "CALC ['Sometimes' 'no' 'Frequently']\n",
      "MTRANS ['Public_Transportation' 'Automobile' 'Walking' 'Motorbike' 'Bike']\n"
     ]
    }
   ],
   "source": [
    "#unique values in each column\n",
    "for col in cat_cols:\n",
    "    print(col, df[col].unique())"
   ]
  },
  {
   "cell_type": "markdown",
   "metadata": {},
   "source": [
    "### encoding (tu by się przydalo to zrobic madrzej, tzn. np. 0 - wgl nie je warzyw, 5 - je duzo)"
   ]
  },
  {
   "cell_type": "code",
   "execution_count": 28,
   "metadata": {},
   "outputs": [],
   "source": [
    "#change categorical columns to numerical\n",
    "from sklearn.preprocessing import LabelEncoder\n",
    "le = LabelEncoder()\n",
    "for col in cat_cols:\n",
    "    X_train[col] = le.fit_transform(X_train[col])\n",
    "    X_test[col] = le.fit_transform(X_test[col])\n",
    "    X_val[col] = le.fit_transform(X_val[col])\n",
    "\n",
    "y_train = le.fit_transform(y_train)\n",
    "y_test = le.fit_transform(y_test)\n",
    "y_val = le.fit_transform(y_val)"
   ]
  },
  {
   "cell_type": "markdown",
   "metadata": {},
   "source": [
    "### Scaling"
   ]
  },
  {
   "cell_type": "code",
   "execution_count": 29,
   "metadata": {},
   "outputs": [],
   "source": [
    "from sklearn.preprocessing import StandardScaler\n",
    "scaler = StandardScaler()\n",
    "X_train = scaler.fit_transform(X_train)\n",
    "X_test = scaler.transform(X_test)\n",
    "X_val = scaler.transform(X_val)"
   ]
  },
  {
   "cell_type": "markdown",
   "metadata": {},
   "source": [
    "### baseline?\n",
    "randomforest"
   ]
  },
  {
   "cell_type": "code",
   "execution_count": 39,
   "metadata": {},
   "outputs": [
    {
     "name": "stdout",
     "output_type": "stream",
     "text": [
      "[[475  46   0   0   0   3   1]\n",
      " [ 21 559   0   0   0  37   7]\n",
      " [  2   1 522  21   3  18  37]\n",
      " [  0   0  12 697   2   0   3]\n",
      " [  1   0   0   1 834   1   0]\n",
      " [  1  53  16   0   0 398  64]\n",
      " [  0  12  33   4   0  42 432]]\n",
      "              precision    recall  f1-score   support\n",
      "\n",
      "           0       0.95      0.90      0.93       525\n",
      "           1       0.83      0.90      0.86       624\n",
      "           2       0.90      0.86      0.88       604\n",
      "           3       0.96      0.98      0.97       714\n",
      "           4       0.99      1.00      1.00       837\n",
      "           5       0.80      0.75      0.77       532\n",
      "           6       0.79      0.83      0.81       523\n",
      "\n",
      "    accuracy                           0.90      4359\n",
      "   macro avg       0.89      0.89      0.89      4359\n",
      "weighted avg       0.90      0.90      0.90      4359\n",
      " \n",
      "\n",
      "0.8986005964670796\n"
     ]
    }
   ],
   "source": [
    "from sklearn.ensemble import RandomForestClassifier\n",
    "from sklearn.metrics import classification_report, confusion_matrix\n",
    "\n",
    "random_forest = RandomForestClassifier(n_estimators=1000, criterion='gini') #gini najlepiej dziala\n",
    "random_forest.fit(X_train, y_train)\n",
    "y_pred = random_forest.predict(X_val)\n",
    "cm = confusion_matrix(y_val, y_pred)\n",
    "print(cm)\n",
    "print(classification_report(y_val, y_pred), '\\n')\n",
    "print(random_forest.score(X_val, y_val))"
   ]
  },
  {
   "cell_type": "code",
   "execution_count": null,
   "metadata": {},
   "outputs": [],
   "source": []
  }
 ],
 "metadata": {
  "kernelspec": {
   "display_name": "base",
   "language": "python",
   "name": "python3"
  },
  "language_info": {
   "codemirror_mode": {
    "name": "ipython",
    "version": 3
   },
   "file_extension": ".py",
   "mimetype": "text/x-python",
   "name": "python",
   "nbconvert_exporter": "python",
   "pygments_lexer": "ipython3",
   "version": "3.9.12"
  }
 },
 "nbformat": 4,
 "nbformat_minor": 2
}
