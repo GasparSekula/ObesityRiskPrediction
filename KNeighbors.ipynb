{
 "cells": [
  {
   "cell_type": "markdown",
   "metadata": {},
   "source": [
    "## best score 0.73"
   ]
  },
  {
   "cell_type": "code",
   "execution_count": 9,
   "metadata": {},
   "outputs": [],
   "source": [
    "from sklearn.neighbors import KNeighborsClassifier"
   ]
  },
  {
   "cell_type": "code",
   "execution_count": 10,
   "metadata": {},
   "outputs": [],
   "source": [
    "from tpot import TPOTClassifier\n",
    "import pandas as pd\n",
    "import numpy as np\n",
    "import seaborn as sns\n",
    "import matplotlib.pyplot as plt\n",
    "from sklearn.compose import ColumnTransformer\n",
    "from sklearn.pipeline import Pipeline\n",
    "from sklearn.preprocessing import FunctionTransformer, LabelEncoder\n",
    "from sklearn.model_selection import GridSearchCV"
   ]
  },
  {
   "cell_type": "code",
   "execution_count": 11,
   "metadata": {},
   "outputs": [],
   "source": [
    "train = pd.read_csv('Data/our_train.csv')\n",
    "test = pd.read_csv('Data/our_test.csv')\n",
    "val = pd.read_csv('Data/our_val.csv')\n",
    "df = pd.read_csv('Data/train.csv')\n",
    "\n",
    "X_train = train.drop('NObeyesdad', axis=1)\n",
    "y_train = train['NObeyesdad']\n",
    "X_test = test.drop('NObeyesdad', axis=1)\n",
    "y_test = test['NObeyesdad']\n",
    "X_val = val.drop('NObeyesdad', axis=1)\n",
    "y_val = val['NObeyesdad']\n",
    "\n",
    "CAEC_dict = {'no': 0, 'Sometimes': 0.33, 'Frequently': 0.66, 'Always': 1 }\n",
    "CALC_dict = {'no': 0, 'Sometimes': 0.5, 'Frequently': 1}\n",
    "X_train['CAEC'] = X_train['CAEC'].map(CAEC_dict)\n",
    "X_train['CALC'] = X_train['CALC'].map(CALC_dict)\n",
    "X_test['CAEC'] = X_test['CAEC'].map(CAEC_dict)\n",
    "X_test['CALC'] = X_test['CALC'].map(CALC_dict)\n",
    "X_val['CAEC'] = X_val['CAEC'].map(CAEC_dict)\n",
    "X_val['CALC'] = X_val['CALC'].map(CALC_dict)\n",
    "cat_cols2 = ['Gender', 'family_history_with_overweight', 'FAVC', 'SMOKE', 'SCC', 'MTRANS']\n",
    "\n",
    "from sklearn.preprocessing import LabelEncoder\n",
    "le = LabelEncoder()\n",
    "for col in cat_cols2:\n",
    "    X_train[col] = le.fit_transform(X_train[col])\n",
    "    X_test[col] = le.fit_transform(X_test[col])\n",
    "    X_val[col] = le.fit_transform(X_val[col])\n",
    "\n",
    "y_train = le.fit_transform(y_train)\n",
    "y_test = le.fit_transform(y_test)\n",
    "y_val = le.fit_transform(y_val)\n",
    "\n",
    "from sklearn.preprocessing import StandardScaler\n",
    "scaler = StandardScaler()\n",
    "X_train = scaler.fit_transform(X_train)\n",
    "X_test = scaler.transform(X_test)\n",
    "X_val = scaler.transform(X_val)"
   ]
  },
  {
   "cell_type": "code",
   "execution_count": 14,
   "metadata": {},
   "outputs": [],
   "source": [
    "dist = {'n_neighbors': [3, 5,6,7,8, 9, 10,11, 12, 15, 21]}"
   ]
  },
  {
   "cell_type": "code",
   "execution_count": 13,
   "metadata": {},
   "outputs": [
    {
     "name": "stdout",
     "output_type": "stream",
     "text": [
      "Fitting 3 folds for each of 10 candidates, totalling 30 fits\n"
     ]
    },
    {
     "name": "stdout",
     "output_type": "stream",
     "text": [
      "[CV] END ......................................n_neighbors=3; total time=   0.7s\n",
      "[CV] END ......................................n_neighbors=3; total time=   0.7s\n",
      "[CV] END ......................................n_neighbors=5; total time=   0.7s\n",
      "[CV] END ......................................n_neighbors=5; total time=   0.7s\n",
      "[CV] END ......................................n_neighbors=3; total time=   0.8s\n",
      "[CV] END ......................................n_neighbors=7; total time=   0.7s\n",
      "[CV] END ......................................n_neighbors=5; total time=   0.7s\n",
      "[CV] END ......................................n_neighbors=7; total time=   0.8s\n",
      "[CV] END ......................................n_neighbors=7; total time=   0.6s\n",
      "[CV] END ......................................n_neighbors=8; total time=   0.6s\n",
      "[CV] END ......................................n_neighbors=8; total time=   0.6s\n",
      "[CV] END ......................................n_neighbors=8; total time=   0.7s\n",
      "[CV] END ......................................n_neighbors=9; total time=   0.7s\n",
      "[CV] END ......................................n_neighbors=9; total time=   0.7s\n",
      "[CV] END ......................................n_neighbors=9; total time=   0.7s\n",
      "[CV] END .....................................n_neighbors=10; total time=   0.7s\n",
      "[CV] END .....................................n_neighbors=10; total time=   0.7s\n",
      "[CV] END .....................................n_neighbors=10; total time=   0.6s\n",
      "[CV] END .....................................n_neighbors=11; total time=   0.6s\n",
      "[CV] END .....................................n_neighbors=11; total time=   0.6s\n",
      "[CV] END .....................................n_neighbors=11; total time=   0.6s\n",
      "[CV] END .....................................n_neighbors=12; total time=   0.5s\n",
      "[CV] END .....................................n_neighbors=12; total time=   0.6s\n",
      "[CV] END .....................................n_neighbors=12; total time=   0.6s\n",
      "[CV] END .....................................n_neighbors=15; total time=   0.6s\n",
      "[CV] END .....................................n_neighbors=15; total time=   0.5s\n",
      "[CV] END .....................................n_neighbors=15; total time=   0.5s\n",
      "[CV] END .....................................n_neighbors=21; total time=   0.5s\n",
      "[CV] END .....................................n_neighbors=21; total time=   0.5s\n",
      "[CV] END .....................................n_neighbors=21; total time=   0.4s\n",
      "Best Parameters: {'n_neighbors': 8}\n",
      "Best Score: 0.7251203194567611\n"
     ]
    }
   ],
   "source": [
    "clf = KNeighborsClassifier()\n",
    "\n",
    "\n",
    "\n",
    "\n",
    "\n",
    "grid_search = GridSearchCV(estimator=clf, param_grid=dist, cv=3, n_jobs=-1, verbose=2)\n",
    "grid_search.fit(X_train, y_train)\n",
    "\n",
    "\n",
    "best_params = grid_search.best_params_\n",
    "best_score = grid_search.best_score_\n",
    "\n",
    "print(\"Best Parameters:\", best_params)\n",
    "print(\"Best Score:\", best_score)"
   ]
  }
 ],
 "metadata": {
  "kernelspec": {
   "display_name": "base",
   "language": "python",
   "name": "python3"
  },
  "language_info": {
   "codemirror_mode": {
    "name": "ipython",
    "version": 3
   },
   "file_extension": ".py",
   "mimetype": "text/x-python",
   "name": "python",
   "nbconvert_exporter": "python",
   "pygments_lexer": "ipython3",
   "version": "3.11.7"
  }
 },
 "nbformat": 4,
 "nbformat_minor": 2
}
