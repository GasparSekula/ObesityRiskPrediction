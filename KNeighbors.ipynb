{
 "cells": [
  {
   "cell_type": "markdown",
   "metadata": {},
   "source": [
    "## best score 0.78"
   ]
  },
  {
   "cell_type": "code",
   "execution_count": 8,
   "metadata": {},
   "outputs": [],
   "source": [
    "from sklearn.neighbors import KNeighborsClassifier"
   ]
  },
  {
   "cell_type": "code",
   "execution_count": 19,
   "metadata": {},
   "outputs": [],
   "source": [
    "from tpot import TPOTClassifier\n",
    "import pandas as pd\n",
    "import numpy as np\n",
    "import seaborn as sns\n",
    "import matplotlib.pyplot as plt\n",
    "from sklearn.compose import ColumnTransformer\n",
    "from sklearn.pipeline import Pipeline\n",
    "from sklearn.preprocessing import FunctionTransformer, LabelEncoder\n",
    "from sklearn.model_selection import GridSearchCV\n",
    "from sklearn.metrics import accuracy_score, classification_report, confusion_matrix"
   ]
  },
  {
   "cell_type": "code",
   "execution_count": 15,
   "metadata": {},
   "outputs": [],
   "source": [
    "train = pd.read_csv('Data/selected_train.csv')\n",
    "test = pd.read_csv('Data/selected_test.csv')\n",
    "val = pd.read_csv('Data/selected_val.csv')\n",
    "\n",
    "X_train = train.drop('NObeyesdad', axis=1)\n",
    "y_train = train['NObeyesdad']\n",
    "X_test = test.drop('NObeyesdad', axis=1)\n",
    "y_test = test['NObeyesdad']\n",
    "X_val = val.drop('NObeyesdad', axis=1)\n",
    "y_val = val['NObeyesdad']"
   ]
  },
  {
   "cell_type": "code",
   "execution_count": 16,
   "metadata": {},
   "outputs": [],
   "source": [
    "dist = {'n_neighbors': [3, 5,6,7,8, 9, 10,11, 12, 15, 21]}"
   ]
  },
  {
   "cell_type": "code",
   "execution_count": 17,
   "metadata": {},
   "outputs": [
    {
     "name": "stdout",
     "output_type": "stream",
     "text": [
      "Fitting 3 folds for each of 11 candidates, totalling 33 fits\n",
      "[CV] END ......................................n_neighbors=3; total time=   0.8s\n",
      "[CV] END ......................................n_neighbors=3; total time=   0.8s\n",
      "[CV] END ......................................n_neighbors=3; total time=   0.8s\n",
      "[CV] END ......................................n_neighbors=5; total time=   0.8s\n",
      "[CV] END ......................................n_neighbors=5; total time=   0.8s\n",
      "[CV] END ......................................n_neighbors=6; total time=   0.9s\n",
      "[CV] END ......................................n_neighbors=5; total time=   0.9s\n",
      "[CV] END ......................................n_neighbors=6; total time=   0.9s\n",
      "[CV] END ......................................n_neighbors=7; total time=   0.7s\n",
      "[CV] END ......................................n_neighbors=7; total time=   0.7s\n",
      "[CV] END ......................................n_neighbors=7; total time=   0.7s\n",
      "[CV] END ......................................n_neighbors=6; total time=   0.8s\n",
      "[CV] END ......................................n_neighbors=8; total time=   0.7s\n",
      "[CV] END ......................................n_neighbors=8; total time=   0.8s\n",
      "[CV] END ......................................n_neighbors=8; total time=   0.8s\n",
      "[CV] END ......................................n_neighbors=9; total time=   0.8s\n",
      "[CV] END ......................................n_neighbors=9; total time=   0.7s\n",
      "[CV] END ......................................n_neighbors=9; total time=   0.8s\n",
      "[CV] END .....................................n_neighbors=10; total time=   0.8s\n",
      "[CV] END .....................................n_neighbors=10; total time=   0.8s\n",
      "[CV] END .....................................n_neighbors=10; total time=   0.8s\n",
      "[CV] END .....................................n_neighbors=11; total time=   0.8s\n",
      "[CV] END .....................................n_neighbors=11; total time=   0.8s\n",
      "[CV] END .....................................n_neighbors=11; total time=   0.9s\n",
      "[CV] END .....................................n_neighbors=12; total time=   0.8s\n",
      "[CV] END .....................................n_neighbors=12; total time=   0.8s\n",
      "[CV] END .....................................n_neighbors=12; total time=   0.8s\n",
      "[CV] END .....................................n_neighbors=15; total time=   0.8s\n",
      "[CV] END .....................................n_neighbors=15; total time=   0.8s\n",
      "[CV] END .....................................n_neighbors=15; total time=   0.9s\n",
      "[CV] END .....................................n_neighbors=21; total time=   0.8s\n",
      "[CV] END .....................................n_neighbors=21; total time=   0.8s\n",
      "[CV] END .....................................n_neighbors=21; total time=   0.5s\n",
      "Best Parameters: {'n_neighbors': 5}\n",
      "Best Score: 0.7808670082597412\n",
      "Best model CV Results: 0.7808670082597412\n"
     ]
    }
   ],
   "source": [
    "clf = KNeighborsClassifier()\n",
    "\n",
    "\n",
    "\n",
    "\n",
    "\n",
    "grid_search = GridSearchCV(estimator=clf, param_grid=dist, cv=3, n_jobs=-1, verbose=2)\n",
    "grid_search.fit(X_train, y_train)\n",
    "\n",
    "\n",
    "best_params = grid_search.best_params_\n",
    "best_score = grid_search.best_score_\n",
    "cv_results = grid_search.cv_results_\n",
    "\n",
    "print(\"Best Parameters:\", best_params)\n",
    "print(\"Best Score:\", best_score)\n",
    "print(\"Best model CV Results:\", cv_results[\"mean_test_score\"][grid_search.best_index_])"
   ]
  },
  {
   "cell_type": "markdown",
   "metadata": {},
   "source": [
    "Best Parameters: {'n_neighbors': 5}  \n",
    "Best Score: 0.7808670082597412  \n",
    "Best model CV Results: 0.7808670082597412"
   ]
  },
  {
   "cell_type": "code",
   "execution_count": 21,
   "metadata": {},
   "outputs": [
    {
     "name": "stdout",
     "output_type": "stream",
     "text": [
      "Classification Report:\n",
      "               precision    recall  f1-score   support\n",
      "\n",
      "           0       0.80      0.78      0.79       525\n",
      "           1       0.62      0.74      0.67       624\n",
      "           2       0.74      0.74      0.74       604\n",
      "           3       0.92      0.94      0.93       714\n",
      "           4       1.00      1.00      1.00       837\n",
      "           5       0.61      0.55      0.58       532\n",
      "           6       0.63      0.56      0.59       523\n",
      "\n",
      "    accuracy                           0.78      4359\n",
      "   macro avg       0.76      0.76      0.76      4359\n",
      "weighted avg       0.78      0.78      0.78      4359\n",
      "\n",
      "\n",
      "Confusion Matrix:\n",
      "[[410 102   2   0   0   8   3]\n",
      " [ 70 460   7   1   0  68  18]\n",
      " [  4  15 444  39   3  27  72]\n",
      " [  0   0  27 672   0   2  13]\n",
      " [  0   2   1   0 834   0   0]\n",
      " [ 22 112  35   0   0 295  68]\n",
      " [  4  48  81  16   0  80 294]]\n"
     ]
    }
   ],
   "source": [
    "#best\n",
    "best = KNeighborsClassifier(n_neighbors=5)\n",
    "best.fit(X_train, y_train)\n",
    "y_pred1 = best.predict(X_val)\n",
    "class_report1 = classification_report(y_val, y_pred1)\n",
    "print(\"Classification Report:\\n\", class_report1)\n",
    "conf_matrix1 = confusion_matrix(y_val, y_pred1)\n",
    "print(\"\\nConfusion Matrix:\")\n",
    "print(conf_matrix1)"
   ]
  },
  {
   "cell_type": "code",
   "execution_count": null,
   "metadata": {},
   "outputs": [],
   "source": []
  }
 ],
 "metadata": {
  "kernelspec": {
   "display_name": "base",
   "language": "python",
   "name": "python3"
  },
  "language_info": {
   "codemirror_mode": {
    "name": "ipython",
    "version": 3
   },
   "file_extension": ".py",
   "mimetype": "text/x-python",
   "name": "python",
   "nbconvert_exporter": "python",
   "pygments_lexer": "ipython3",
   "version": "3.11.7"
  }
 },
 "nbformat": 4,
 "nbformat_minor": 2
}
