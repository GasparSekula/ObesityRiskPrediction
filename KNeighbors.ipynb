{
 "cells": [
  {
   "cell_type": "markdown",
   "metadata": {},
   "source": [
    "## best score 0.74 (0.78)"
   ]
  },
  {
   "cell_type": "code",
   "execution_count": 20,
   "metadata": {},
   "outputs": [],
   "source": [
    "from sklearn.neighbors import KNeighborsClassifier"
   ]
  },
  {
   "cell_type": "code",
   "execution_count": 21,
   "metadata": {},
   "outputs": [],
   "source": [
    "import pandas as pd\n",
    "import numpy as np\n",
    "import seaborn as sns\n",
    "import matplotlib.pyplot as plt\n",
    "from sklearn.compose import ColumnTransformer\n",
    "from sklearn.pipeline import Pipeline\n",
    "from sklearn.preprocessing import FunctionTransformer, LabelEncoder\n",
    "from sklearn.model_selection import GridSearchCV\n",
    "from sklearn.metrics import accuracy_score, classification_report, confusion_matrix"
   ]
  },
  {
   "cell_type": "code",
   "execution_count": 22,
   "metadata": {},
   "outputs": [],
   "source": [
    "train = pd.read_csv('Data/train_with_BMI.csv')\n",
    "test = pd.read_csv('Data/test_with_BMI.csv')\n",
    "val = pd.read_csv('Data/val_with_BMI.csv')\n",
    "\n",
    "X_train = train.drop('NObeyesdad', axis=1)\n",
    "y_train = train['NObeyesdad']\n",
    "X_test = test.drop('NObeyesdad', axis=1)\n",
    "y_test = test['NObeyesdad']\n",
    "X_val = val.drop('NObeyesdad', axis=1)\n",
    "y_val = val['NObeyesdad']"
   ]
  },
  {
   "cell_type": "code",
   "execution_count": 23,
   "metadata": {},
   "outputs": [],
   "source": [
    "dist = {'n_neighbors': [3, 5,6,7,8, 9, 10,11, 12, 15, 21]}"
   ]
  },
  {
   "cell_type": "code",
   "execution_count": 24,
   "metadata": {},
   "outputs": [
    {
     "name": "stdout",
     "output_type": "stream",
     "text": [
      "Fitting 3 folds for each of 11 candidates, totalling 33 fits\n",
      "[CV] END ......................................n_neighbors=3; total time=   1.6s\n",
      "[CV] END ......................................n_neighbors=3; total time=   1.6s\n",
      "[CV] END ......................................n_neighbors=3; total time=   1.6s\n",
      "[CV] END ......................................n_neighbors=5; total time=   1.6s\n",
      "[CV] END ......................................n_neighbors=5; total time=   1.7s\n",
      "[CV] END ......................................n_neighbors=5; total time=   1.8s\n",
      "[CV] END ......................................n_neighbors=6; total time=   1.8s\n",
      "[CV] END ......................................n_neighbors=6; total time=   2.0s\n",
      "[CV] END ......................................n_neighbors=6; total time=   1.9s\n",
      "[CV] END ......................................n_neighbors=7; total time=   1.8s\n",
      "[CV] END ......................................n_neighbors=7; total time=   1.9s\n",
      "[CV] END ......................................n_neighbors=7; total time=   1.9s\n",
      "[CV] END ......................................n_neighbors=8; total time=   1.7s\n",
      "[CV] END ......................................n_neighbors=8; total time=   2.0s\n",
      "[CV] END ......................................n_neighbors=8; total time=   2.0s\n",
      "[CV] END ......................................n_neighbors=9; total time=   1.8s\n",
      "[CV] END .....................................n_neighbors=10; total time=   1.6s\n",
      "[CV] END ......................................n_neighbors=9; total time=   1.7s\n",
      "[CV] END ......................................n_neighbors=9; total time=   1.7s\n",
      "[CV] END .....................................n_neighbors=11; total time=   1.7s\n",
      "[CV] END .....................................n_neighbors=10; total time=   1.7s\n",
      "[CV] END .....................................n_neighbors=10; total time=   1.8s\n",
      "[CV] END .....................................n_neighbors=11; total time=   1.7s\n",
      "[CV] END .....................................n_neighbors=11; total time=   1.7s\n",
      "[CV] END .....................................n_neighbors=12; total time=   1.7s\n",
      "[CV] END .....................................n_neighbors=12; total time=   1.7s\n",
      "[CV] END .....................................n_neighbors=12; total time=   1.7s\n",
      "[CV] END .....................................n_neighbors=15; total time=   1.7s\n",
      "[CV] END .....................................n_neighbors=15; total time=   1.8s\n",
      "[CV] END .....................................n_neighbors=15; total time=   1.9s\n",
      "[CV] END .....................................n_neighbors=21; total time=   1.7s\n",
      "[CV] END .....................................n_neighbors=21; total time=   1.7s\n",
      "[CV] END .....................................n_neighbors=21; total time=   0.9s\n",
      "Best Parameters: {'n_neighbors': 10}\n",
      "Best Score: 0.7335169491308678\n",
      "Best model CV Results: 0.7335169491308678\n"
     ]
    }
   ],
   "source": [
    "clf = KNeighborsClassifier()\n",
    "\n",
    "\n",
    "\n",
    "\n",
    "\n",
    "grid_search = GridSearchCV(estimator=clf, param_grid=dist, cv=3, n_jobs=-1, verbose=2)\n",
    "grid_search.fit(X_train, y_train)\n",
    "\n",
    "\n",
    "best_params = grid_search.best_params_\n",
    "best_score = grid_search.best_score_\n",
    "cv_results = grid_search.cv_results_\n",
    "\n",
    "print(\"Best Parameters:\", best_params)\n",
    "print(\"Best Score:\", best_score)\n",
    "print(\"Best model CV Results:\", cv_results[\"mean_test_score\"][grid_search.best_index_])"
   ]
  },
  {
   "cell_type": "markdown",
   "metadata": {},
   "source": [
    "Best Parameters: {'n_neighbors': 10}  \n",
    "Best Score: 0.7335169491308678  \n",
    "Best model CV Results: 0.7335169491308678"
   ]
  },
  {
   "cell_type": "markdown",
   "metadata": {},
   "source": [
    "---\n",
    "#### z selected features:\n",
    "Best Parameters: {'n_neighbors': 5}  \n",
    "Best Score: 0.7808670082597412  \n",
    "Best model CV Results: 0.7808670082597412\n",
    "***"
   ]
  },
  {
   "cell_type": "code",
   "execution_count": 25,
   "metadata": {},
   "outputs": [
    {
     "name": "stdout",
     "output_type": "stream",
     "text": [
      "Classification Report:\n",
      "               precision    recall  f1-score   support\n",
      "\n",
      "           0       0.72      0.76      0.74       525\n",
      "           1       0.53      0.64      0.58       624\n",
      "           2       0.69      0.70      0.70       604\n",
      "           3       0.88      0.94      0.91       714\n",
      "           4       0.99      1.00      0.99       837\n",
      "           5       0.56      0.43      0.49       532\n",
      "           6       0.59      0.49      0.54       523\n",
      "\n",
      "    accuracy                           0.74      4359\n",
      "   macro avg       0.71      0.71      0.71      4359\n",
      "weighted avg       0.73      0.74      0.73      4359\n",
      "\n",
      "\n",
      "Confusion Matrix:\n",
      "[[399 114   2   1   0   5   4]\n",
      " [113 398  12   4   0  59  38]\n",
      " [  6  17 421  46   5  44  65]\n",
      " [  0   1  29 672   0   1  11]\n",
      " [  0   2   0   2 833   0   0]\n",
      " [ 25 150  65   4   0 231  57]\n",
      " [  8  73  78  37   0  71 256]]\n"
     ]
    }
   ],
   "source": [
    "#best\n",
    "best = KNeighborsClassifier(n_neighbors=5)\n",
    "best.fit(X_train, y_train)\n",
    "y_pred1 = best.predict(X_val)\n",
    "class_report1 = classification_report(y_val, y_pred1)\n",
    "print(\"Classification Report:\\n\", class_report1)\n",
    "conf_matrix1 = confusion_matrix(y_val, y_pred1)\n",
    "print(\"\\nConfusion Matrix:\")\n",
    "print(conf_matrix1)"
   ]
  },
  {
   "cell_type": "code",
   "execution_count": null,
   "metadata": {},
   "outputs": [],
   "source": []
  }
 ],
 "metadata": {
  "kernelspec": {
   "display_name": "base",
   "language": "python",
   "name": "python3"
  },
  "language_info": {
   "codemirror_mode": {
    "name": "ipython",
    "version": 3
   },
   "file_extension": ".py",
   "mimetype": "text/x-python",
   "name": "python",
   "nbconvert_exporter": "python",
   "pygments_lexer": "ipython3",
   "version": "3.11.7"
  }
 },
 "nbformat": 4,
 "nbformat_minor": 2
}
