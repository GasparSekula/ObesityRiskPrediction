{
 "cells": [
  {
   "cell_type": "code",
   "execution_count": 24,
   "metadata": {},
   "outputs": [],
   "source": [
    "import pandas as pd\n",
    "import numpy as np\n",
    "from sklearn.model_selection import train_test_split"
   ]
  },
  {
   "cell_type": "code",
   "execution_count": 25,
   "metadata": {},
   "outputs": [],
   "source": [
    "train = pd.read_csv('Data/train.csv') #to nasze całe dane\n",
    "test = pd.read_csv('Data/test.csv') #to moamy przewidzieć - brak kolumny NObeyesdad"
   ]
  },
  {
   "cell_type": "code",
   "execution_count": 26,
   "metadata": {},
   "outputs": [
    {
     "name": "stdout",
     "output_type": "stream",
     "text": [
      "<class 'pandas.core.frame.DataFrame'>\n",
      "RangeIndex: 20758 entries, 0 to 20757\n",
      "Data columns (total 18 columns):\n",
      " #   Column                          Non-Null Count  Dtype  \n",
      "---  ------                          --------------  -----  \n",
      " 0   id                              20758 non-null  int64  \n",
      " 1   Gender                          20758 non-null  object \n",
      " 2   Age                             20758 non-null  float64\n",
      " 3   Height                          20758 non-null  float64\n",
      " 4   Weight                          20758 non-null  float64\n",
      " 5   family_history_with_overweight  20758 non-null  object \n",
      " 6   FAVC                            20758 non-null  object \n",
      " 7   FCVC                            20758 non-null  float64\n",
      " 8   NCP                             20758 non-null  float64\n",
      " 9   CAEC                            20758 non-null  object \n",
      " 10  SMOKE                           20758 non-null  object \n",
      " 11  CH2O                            20758 non-null  float64\n",
      " 12  SCC                             20758 non-null  object \n",
      " 13  FAF                             20758 non-null  float64\n",
      " 14  TUE                             20758 non-null  float64\n",
      " 15  CALC                            20758 non-null  object \n",
      " 16  MTRANS                          20758 non-null  object \n",
      " 17  NObeyesdad                      20758 non-null  object \n",
      "dtypes: float64(8), int64(1), object(9)\n",
      "memory usage: 2.9+ MB\n",
      "None\n",
      "<class 'pandas.core.frame.DataFrame'>\n",
      "RangeIndex: 13840 entries, 0 to 13839\n",
      "Data columns (total 17 columns):\n",
      " #   Column                          Non-Null Count  Dtype  \n",
      "---  ------                          --------------  -----  \n",
      " 0   id                              13840 non-null  int64  \n",
      " 1   Gender                          13840 non-null  object \n",
      " 2   Age                             13840 non-null  float64\n",
      " 3   Height                          13840 non-null  float64\n",
      " 4   Weight                          13840 non-null  float64\n",
      " 5   family_history_with_overweight  13840 non-null  object \n",
      " 6   FAVC                            13840 non-null  object \n",
      " 7   FCVC                            13840 non-null  float64\n",
      " 8   NCP                             13840 non-null  float64\n",
      " 9   CAEC                            13840 non-null  object \n",
      " 10  SMOKE                           13840 non-null  object \n",
      " 11  CH2O                            13840 non-null  float64\n",
      " 12  SCC                             13840 non-null  object \n",
      " 13  FAF                             13840 non-null  float64\n",
      " 14  TUE                             13840 non-null  float64\n",
      " 15  CALC                            13840 non-null  object \n",
      " 16  MTRANS                          13840 non-null  object \n",
      "dtypes: float64(8), int64(1), object(8)\n",
      "memory usage: 1.8+ MB\n",
      "None\n"
     ]
    }
   ],
   "source": [
    "print(train.info())\n",
    "print(test.info())"
   ]
  },
  {
   "cell_type": "markdown",
   "metadata": {},
   "source": [
    "Dzielimy nasze dane:\n",
    "- train (70% danych)\n",
    "- val (20% danych)\n",
    "- test (10% danych)"
   ]
  },
  {
   "cell_type": "code",
   "execution_count": 27,
   "metadata": {},
   "outputs": [],
   "source": [
    "train, val = train_test_split(train, test_size=0.3, random_state=42)\n",
    "val, test = train_test_split(val, test_size=0.3, random_state=42)"
   ]
  },
  {
   "cell_type": "code",
   "execution_count": 28,
   "metadata": {},
   "outputs": [],
   "source": [
    "train.to_csv('Data/our_train.csv', index=False)\n",
    "val.to_csv('Data/our_val.csv', index=False)\n",
    "test.to_csv('Data/our_test.csv', index=False)"
   ]
  },
  {
   "cell_type": "code",
   "execution_count": 29,
   "metadata": {},
   "outputs": [
    {
     "name": "stdout",
     "output_type": "stream",
     "text": [
      "14530 , 4359 , 1869\n"
     ]
    }
   ],
   "source": [
    "print(train.shape[0],\",\", val.shape[0], \",\", test.shape[0])\n"
   ]
  }
 ],
 "metadata": {
  "kernelspec": {
   "display_name": "base",
   "language": "python",
   "name": "python3"
  },
  "language_info": {
   "codemirror_mode": {
    "name": "ipython",
    "version": 3
   },
   "file_extension": ".py",
   "mimetype": "text/x-python",
   "name": "python",
   "nbconvert_exporter": "python",
   "pygments_lexer": "ipython3",
   "version": "3.9.12"
  }
 },
 "nbformat": 4,
 "nbformat_minor": 2
}
