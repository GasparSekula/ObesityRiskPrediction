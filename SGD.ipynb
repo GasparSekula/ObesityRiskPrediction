{
 "cells": [
  {
   "cell_type": "markdown",
   "metadata": {},
   "source": [
    "## Stochastic Gradient Descent\n",
    "## best score\n",
    "### 1. Libraries"
   ]
  },
  {
   "cell_type": "code",
   "execution_count": 1,
   "metadata": {},
   "outputs": [],
   "source": [
    "import pandas as pd\n",
    "import numpy as np\n",
    "import seaborn as sns\n",
    "import matplotlib.pyplot as plt\n",
    "from sklearn.metrics import classification_report, confusion_matrix\n",
    "from sklearn.model_selection import GridSearchCV\n",
    "from sklearn.linear_model import SGDClassifier"
   ]
  },
  {
   "cell_type": "markdown",
   "metadata": {},
   "source": [
    "### 2. Data"
   ]
  },
  {
   "cell_type": "code",
   "execution_count": 2,
   "metadata": {},
   "outputs": [],
   "source": [
    "train = pd.read_csv('Data/selected_train.csv')\n",
    "test = pd.read_csv('Data/selected_test.csv')\n",
    "val = pd.read_csv('Data/selected_val.csv')\n",
    "\n",
    "X_train = train.drop('NObeyesdad', axis=1)\n",
    "y_train = train['NObeyesdad']\n",
    "X_test = test.drop('NObeyesdad', axis=1)\n",
    "y_test = test['NObeyesdad']\n",
    "X_val = val.drop('NObeyesdad', axis=1)\n",
    "y_val = val['NObeyesdad']"
   ]
  },
  {
   "cell_type": "markdown",
   "metadata": {},
   "source": [
    "### 3. Random parameters"
   ]
  },
  {
   "cell_type": "code",
   "execution_count": 3,
   "metadata": {},
   "outputs": [
    {
     "name": "stdout",
     "output_type": "stream",
     "text": [
      "Classification report:\n",
      "               precision    recall  f1-score   support\n",
      "\n",
      "           0       0.83      0.95      0.88       525\n",
      "           1       0.48      0.57      0.52       624\n",
      "           2       0.48      0.72      0.57       604\n",
      "           3       0.89      0.93      0.91       714\n",
      "           4       0.99      1.00      0.99       837\n",
      "           5       0.33      0.23      0.27       532\n",
      "           6       0.40      0.12      0.18       523\n",
      "\n",
      "    accuracy                           0.68      4359\n",
      "   macro avg       0.63      0.64      0.62      4359\n",
      "weighted avg       0.66      0.68      0.66      4359\n",
      "\n",
      "Confusion matrix:\n",
      " [[500  17   3   1   0   3   1]\n",
      " [102 353  59   0   0  67  43]\n",
      " [  2  30 433  61   4  59  15]\n",
      " [  0   2  43 667   0   1   1]\n",
      " [  1   1   0   1 834   0   0]\n",
      " [  1 252 123   2   0 122  32]\n",
      " [  0  73 247  18   2 121  62]]\n"
     ]
    }
   ],
   "source": [
    "sgd = SGDClassifier(random_state=42)\n",
    "sgd.fit(X_train, y_train)\n",
    "y_pred1 = sgd.predict(X_val)\n",
    "class_report1 = classification_report(y_val, y_pred1)\n",
    "print(\"Classification report:\\n\", class_report1)\n",
    "\n",
    "conf_matrix1 = confusion_matrix(y_val, y_pred1)\n",
    "print(\"Confusion matrix:\\n\", conf_matrix1)"
   ]
  },
  {
   "cell_type": "markdown",
   "metadata": {},
   "source": [
    "Score: 0.68  \n",
    "### 4. Hyperparameter tuning"
   ]
  },
  {
   "cell_type": "code",
   "execution_count": 6,
   "metadata": {},
   "outputs": [
    {
     "name": "stdout",
     "output_type": "stream",
     "text": [
      "Fitting 3 folds for each of 110 candidates, totalling 330 fits\n",
      "Best parameters:  {'alpha': 0.000774263682681127, 'l1_ratio': 0.05, 'loss': 'log', 'penalty': 'elasticnet'}\n",
      "Best score:  0.7346864544210931\n",
      "Best model cross-validation results:  0.7346864544210931\n"
     ]
    },
    {
     "name": "stderr",
     "output_type": "stream",
     "text": [
      "c:\\Programy\\Anaconda\\Lib\\site-packages\\sklearn\\linear_model\\_stochastic_gradient.py:163: FutureWarning: The loss 'log' was deprecated in v1.1 and will be removed in version 1.3. Use `loss='log_loss'` which is equivalent.\n",
      "  warnings.warn(\n"
     ]
    }
   ],
   "source": [
    "sgd = SGDClassifier(random_state=42)\n",
    "\n",
    "param_grid = {\n",
    "    'loss':['log'],\n",
    "    'penalty':['elasticnet'],\n",
    "    'alpha':np.logspace(-4, 4, 10),\n",
    "    'l1_ratio':[0.05,0.06,0.07,0.08,0.09,0.1,0.12,0.13,0.14,0.15,0.2]\n",
    "}\n",
    "\n",
    "grid_search = GridSearchCV(sgd, param_grid, scoring='accuracy', cv=3, n_jobs=-1, verbose=2)\n",
    "grid_search.fit(X_train, y_train)\n",
    "\n",
    "best_params = grid_search.best_params_\n",
    "best_score = grid_search.best_score_\n",
    "cv_results = grid_search.cv_results_\n",
    "\n",
    "print(\"Best parameters: \", best_params)\n",
    "print(\"Best score: \", best_score)\n",
    "print(\"Best model cross-validation results: \", cv_results['mean_test_score'][grid_search.best_index_])"
   ]
  },
  {
   "cell_type": "markdown",
   "metadata": {},
   "source": [
    "Best parameters:  {'alpha': 0.000774263682681127, 'l1_ratio': 0.05, 'loss': 'log', 'penalty': 'elasticnet'}  \n",
    "Best score:  0.7346864544210931  \n",
    "Best model cross-validation results:  0.7346864544210931  \n",
    "No overfitting.\n",
    "\n",
    "### 5. Best model - test"
   ]
  },
  {
   "cell_type": "code",
   "execution_count": 8,
   "metadata": {},
   "outputs": [
    {
     "name": "stderr",
     "output_type": "stream",
     "text": [
      "c:\\Programy\\Anaconda\\Lib\\site-packages\\sklearn\\linear_model\\_stochastic_gradient.py:163: FutureWarning: The loss 'log' was deprecated in v1.1 and will be removed in version 1.3. Use `loss='log_loss'` which is equivalent.\n",
      "  warnings.warn(\n"
     ]
    },
    {
     "name": "stdout",
     "output_type": "stream",
     "text": [
      "Classification report:\n",
      "               precision    recall  f1-score   support\n",
      "\n",
      "           0       0.87      0.92      0.89       525\n",
      "           1       0.62      0.66      0.64       624\n",
      "           2       0.60      0.62      0.61       604\n",
      "           3       0.82      0.95      0.88       714\n",
      "           4       0.98      1.00      0.99       837\n",
      "           5       0.50      0.36      0.42       532\n",
      "           6       0.52      0.45      0.49       523\n",
      "\n",
      "    accuracy                           0.74      4359\n",
      "   macro avg       0.70      0.71      0.70      4359\n",
      "weighted avg       0.72      0.74      0.73      4359\n",
      "\n",
      "Confusion matrix:\n",
      " [[484  29   2   0   0   2   8]\n",
      " [ 70 413  22   0   1  59  59]\n",
      " [  2  10 374 121  10  40  47]\n",
      " [  0   0  27 678   1   1   7]\n",
      " [  1   1   0   1 834   0   0]\n",
      " [  0 171  75   2   2 189  93]\n",
      " [  0  47 123  28   2  87 236]]\n"
     ]
    }
   ],
   "source": [
    "best = SGDClassifier(random_state=42, **best_params)\n",
    "best.fit(X_train, y_train)\n",
    "y_pred2 = best.predict(X_val)\n",
    "class_report2 = classification_report(y_val, y_pred2)\n",
    "print(\"Classification report:\\n\", class_report2)\n",
    "conf_matrix2 = confusion_matrix(y_val, y_pred2)\n",
    "print(\"Confusion matrix:\\n\", conf_matrix2)"
   ]
  },
  {
   "cell_type": "markdown",
   "metadata": {},
   "source": [
    "Best score: 0.74"
   ]
  }
 ],
 "metadata": {
  "kernelspec": {
   "display_name": "base",
   "language": "python",
   "name": "python3"
  },
  "language_info": {
   "codemirror_mode": {
    "name": "ipython",
    "version": 3
   },
   "file_extension": ".py",
   "mimetype": "text/x-python",
   "name": "python",
   "nbconvert_exporter": "python",
   "pygments_lexer": "ipython3",
   "version": "3.11.7"
  }
 },
 "nbformat": 4,
 "nbformat_minor": 2
}
