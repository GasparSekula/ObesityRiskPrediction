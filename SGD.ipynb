{
 "cells": [
  {
   "cell_type": "markdown",
   "metadata": {},
   "source": [
    "## Stochastic Gradient Descent\n",
    "## best score\n",
    "### 1. Libraries"
   ]
  },
  {
   "cell_type": "code",
   "execution_count": 1,
   "metadata": {},
   "outputs": [],
   "source": [
    "import pandas as pd\n",
    "import numpy as np\n",
    "import seaborn as sns\n",
    "import matplotlib.pyplot as plt\n",
    "from sklearn.metrics import classification_report, confusion_matrix\n",
    "from sklearn.model_selection import GridSearchCV\n",
    "from sklearn.linear_model import SGDClassifier"
   ]
  },
  {
   "cell_type": "markdown",
   "metadata": {},
   "source": [
    "### 2. Data"
   ]
  },
  {
   "cell_type": "code",
   "execution_count": 2,
   "metadata": {},
   "outputs": [],
   "source": [
    "train = pd.read_csv('Data/train_with_BMI.csv')\n",
    "test = pd.read_csv('Data/test_with_BMI.csv')\n",
    "val = pd.read_csv('Data/val_with_BMI.csv')\n",
    "\n",
    "X_train = train.drop('NObeyesdad', axis=1)\n",
    "y_train = train['NObeyesdad']\n",
    "X_test = test.drop('NObeyesdad', axis=1)\n",
    "y_test = test['NObeyesdad']\n",
    "X_val = val.drop('NObeyesdad', axis=1)\n",
    "y_val = val['NObeyesdad']"
   ]
  },
  {
   "cell_type": "markdown",
   "metadata": {},
   "source": [
    "### 3. Random parameters"
   ]
  },
  {
   "cell_type": "code",
   "execution_count": 3,
   "metadata": {},
   "outputs": [
    {
     "name": "stdout",
     "output_type": "stream",
     "text": [
      "Classification report:\n",
      "               precision    recall  f1-score   support\n",
      "\n",
      "           0       0.84      0.94      0.89       525\n",
      "           1       0.63      0.42      0.50       624\n",
      "           2       0.55      0.64      0.59       604\n",
      "           3       0.86      0.97      0.91       714\n",
      "           4       0.99      1.00      0.99       837\n",
      "           5       0.40      0.58      0.48       532\n",
      "           6       0.44      0.21      0.29       523\n",
      "\n",
      "    accuracy                           0.71      4359\n",
      "   macro avg       0.67      0.68      0.66      4359\n",
      "weighted avg       0.70      0.71      0.69      4359\n",
      "\n",
      "Confusion matrix:\n",
      " [[493  15   5   1   0   7   4]\n",
      " [ 87 260  56   0   0 159  62]\n",
      " [  2  12 384  91   5  84  26]\n",
      " [  0   0  12 694   0   5   3]\n",
      " [  1   1   0   1 834   0   0]\n",
      " [  1  85  87   2   0 309  48]\n",
      " [  0  37 152  22   1 200 111]]\n"
     ]
    }
   ],
   "source": [
    "sgd = SGDClassifier(random_state=42)\n",
    "sgd.fit(X_train, y_train)\n",
    "y_pred1 = sgd.predict(X_val)\n",
    "class_report1 = classification_report(y_val, y_pred1)\n",
    "print(\"Classification report:\\n\", class_report1)\n",
    "\n",
    "conf_matrix1 = confusion_matrix(y_val, y_pred1)\n",
    "print(\"Confusion matrix:\\n\", conf_matrix1)"
   ]
  },
  {
   "cell_type": "markdown",
   "metadata": {},
   "source": [
    "Score: 0.68  \n",
    "### 4. Hyperparameter tuning"
   ]
  },
  {
   "cell_type": "code",
   "execution_count": 5,
   "metadata": {},
   "outputs": [
    {
     "name": "stdout",
     "output_type": "stream",
     "text": [
      "Fitting 3 folds for each of 110 candidates, totalling 330 fits\n",
      "Best parameters:  {'alpha': 0.000774263682681127, 'l1_ratio': 0.2, 'loss': 'log_loss', 'penalty': 'elasticnet'}\n",
      "Best score:  0.7481065944082109\n",
      "Best model cross-validation results:  0.7481065944082109\n"
     ]
    }
   ],
   "source": [
    "sgd = SGDClassifier(random_state=42)\n",
    "\n",
    "param_grid = {\n",
    "    'loss':['log_loss'],\n",
    "    'penalty':['elasticnet'],\n",
    "    'alpha':np.logspace(-4, 4, 10),\n",
    "    'l1_ratio':[0.05,0.06,0.07,0.08,0.09,0.1,0.12,0.13,0.14,0.15,0.2]\n",
    "}\n",
    "\n",
    "grid_search = GridSearchCV(sgd, param_grid, scoring='accuracy', cv=3, n_jobs=-1, verbose=2)\n",
    "grid_search.fit(X_train, y_train)\n",
    "\n",
    "best_params = grid_search.best_params_\n",
    "best_score = grid_search.best_score_\n",
    "cv_results = grid_search.cv_results_\n",
    "\n",
    "print(\"Best parameters: \", best_params)\n",
    "print(\"Best score: \", best_score)\n",
    "print(\"Best model cross-validation results: \", cv_results['mean_test_score'][grid_search.best_index_])"
   ]
  },
  {
   "cell_type": "markdown",
   "metadata": {},
   "source": [
    "Best parameters:  {'alpha': 0.000774263682681127, 'l1_ratio': 0.05, 'loss': 'log', 'penalty': 'elasticnet'}  \n",
    "Best score:  0.7346864544210931  \n",
    "Best model cross-validation results:  0.7346864544210931  \n",
    "No overfitting.\n",
    "\n",
    "### 5. Best model - test"
   ]
  },
  {
   "cell_type": "code",
   "execution_count": 6,
   "metadata": {},
   "outputs": [
    {
     "name": "stdout",
     "output_type": "stream",
     "text": [
      "Classification report:\n",
      "               precision    recall  f1-score   support\n",
      "\n",
      "           0       0.88      0.89      0.88       525\n",
      "           1       0.60      0.67      0.64       624\n",
      "           2       0.64      0.65      0.64       604\n",
      "           3       0.85      0.96      0.90       714\n",
      "           4       0.98      1.00      0.99       837\n",
      "           5       0.57      0.46      0.51       532\n",
      "           6       0.55      0.45      0.50       523\n",
      "\n",
      "    accuracy                           0.75      4359\n",
      "   macro avg       0.72      0.73      0.72      4359\n",
      "weighted avg       0.74      0.75      0.75      4359\n",
      "\n",
      "Confusion matrix:\n",
      " [[468  47   1   1   0   3   5]\n",
      " [ 62 419  22   0   1  65  55]\n",
      " [  2  10 394  98  11  40  49]\n",
      " [  0   0  23 683   1   1   6]\n",
      " [  1   1   0   1 834   0   0]\n",
      " [  0 151  60   0   0 244  77]\n",
      " [  0  65 118  25   2  77 236]]\n"
     ]
    }
   ],
   "source": [
    "best = SGDClassifier(random_state=42, **best_params)\n",
    "best.fit(X_train, y_train)\n",
    "y_pred2 = best.predict(X_val)\n",
    "class_report2 = classification_report(y_val, y_pred2)\n",
    "print(\"Classification report:\\n\", class_report2)\n",
    "conf_matrix2 = confusion_matrix(y_val, y_pred2)\n",
    "print(\"Confusion matrix:\\n\", conf_matrix2)"
   ]
  },
  {
   "cell_type": "markdown",
   "metadata": {},
   "source": [
    "Best score: 0.74"
   ]
  }
 ],
 "metadata": {
  "kernelspec": {
   "display_name": "base",
   "language": "python",
   "name": "python3"
  },
  "language_info": {
   "codemirror_mode": {
    "name": "ipython",
    "version": 3
   },
   "file_extension": ".py",
   "mimetype": "text/x-python",
   "name": "python",
   "nbconvert_exporter": "python",
   "pygments_lexer": "ipython3",
   "version": "3.11.7"
  }
 },
 "nbformat": 4,
 "nbformat_minor": 2
}
