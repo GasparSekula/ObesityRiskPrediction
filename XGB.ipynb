{
 "cells": [
  {
   "cell_type": "markdown",
   "metadata": {},
   "source": [
    "XGB Classifier"
   ]
  },
  {
   "cell_type": "markdown",
   "metadata": {},
   "source": [
    "Best score 0.89"
   ]
  },
  {
   "cell_type": "code",
   "execution_count": 1,
   "metadata": {},
   "outputs": [],
   "source": [
    "import pandas as pd\n",
    "import numpy as np\n",
    "import seaborn as sns\n",
    "import matplotlib.pyplot as plt\n",
    "from sklearn.metrics import classification_report, confusion_matrix\n",
    "from sklearn.model_selection import GridSearchCV\n",
    "from xgboost import XGBClassifier"
   ]
  },
  {
   "cell_type": "code",
   "execution_count": 2,
   "metadata": {},
   "outputs": [],
   "source": [
    "train = pd.read_csv('Data/train_with_BMI.csv')\n",
    "test = pd.read_csv('Data/test_with_BMI.csv')\n",
    "val = pd.read_csv('Data/val_with_BMI.csv')"
   ]
  },
  {
   "cell_type": "code",
   "execution_count": 3,
   "metadata": {},
   "outputs": [],
   "source": [
    "X_train = train.drop('NObeyesdad', axis=1)\n",
    "y_train = train['NObeyesdad']\n",
    "X_test = test.drop('NObeyesdad', axis=1)\n",
    "y_test = test['NObeyesdad']\n",
    "X_val = val.drop('NObeyesdad', axis=1)\n",
    "y_val = val['NObeyesdad']"
   ]
  },
  {
   "cell_type": "code",
   "execution_count": 4,
   "metadata": {},
   "outputs": [
    {
     "name": "stdout",
     "output_type": "stream",
     "text": [
      "Fitting 3 folds for each of 540 candidates, totalling 1620 fits\n"
     ]
    },
    {
     "name": "stderr",
     "output_type": "stream",
     "text": [
      "[Parallel(n_jobs=-1)]: Using backend LokyBackend with 8 concurrent workers.\n",
      "[Parallel(n_jobs=-1)]: Done  25 tasks      | elapsed:   19.8s\n",
      "[Parallel(n_jobs=-1)]: Done 146 tasks      | elapsed:  4.2min\n",
      "[Parallel(n_jobs=-1)]: Done 349 tasks      | elapsed: 10.8min\n",
      "[Parallel(n_jobs=-1)]: Done 632 tasks      | elapsed: 19.9min\n",
      "[Parallel(n_jobs=-1)]: Done 997 tasks      | elapsed: 32.5min\n",
      "[Parallel(n_jobs=-1)]: Done 1442 tasks      | elapsed: 49.4min\n",
      "[Parallel(n_jobs=-1)]: Done 1620 out of 1620 | elapsed: 56.2min finished\n"
     ]
    },
    {
     "name": "stdout",
     "output_type": "stream",
     "text": [
      "Best parameters found:  {'colsample_bytree': 0.5, 'learning_rate': 0.01, 'max_depth': 7, 'n_estimators': 1000, 'subsample': 0.5}\n",
      "Best score found:  0.889263757288521\n"
     ]
    }
   ],
   "source": [
    "param_grid = {\n",
    "    'max_depth': [3, 4, 5, 5, 7],\n",
    "    'learning_rate': [0.01, 0.1, 0.2],\n",
    "    'n_estimators': [100, 200, 500, 1000],\n",
    "    'subsample': [0.5, 0.75, 1.0],\n",
    "    'colsample_bytree': [0.5, 0.75, 1.0],\n",
    "}\n",
    "\n",
    "\n",
    "xgb = XGBClassifier()\n",
    "\n",
    "\n",
    "grid_search = GridSearchCV(estimator=xgb, param_grid=param_grid, cv=3, n_jobs=-1, verbose=2)\n",
    "\n",
    "\n",
    "grid_search.fit(X_train, y_train)\n",
    "\n",
    "\n",
    "print(\"Best parameters found: \", grid_search.best_params_)\n",
    "print(\"Best score found: \", grid_search.best_score_)"
   ]
  },
  {
   "cell_type": "code",
   "execution_count": 8,
   "metadata": {},
   "outputs": [
    {
     "name": "stdout",
     "output_type": "stream",
     "text": [
      "Classification report:\n",
      "               precision    recall  f1-score   support\n",
      "\n",
      "           0       0.94      0.92      0.93       525\n",
      "           1       0.85      0.88      0.87       624\n",
      "           2       0.87      0.84      0.86       604\n",
      "           3       0.95      0.96      0.96       714\n",
      "           4       0.99      1.00      0.99       837\n",
      "           5       0.77      0.75      0.76       532\n",
      "           6       0.75      0.77      0.76       523\n",
      "\n",
      "    accuracy                           0.89      4359\n",
      "   macro avg       0.88      0.88      0.88      4359\n",
      "weighted avg       0.89      0.89      0.89      4359\n",
      "\n",
      "Confusion matrix: \n",
      " [[482  37   0   0   0   4   2]\n",
      " [ 26 550   1   0   0  39   8]\n",
      " [  2   2 510  23   5  24  38]\n",
      " [  0   0  17 689   1   0   7]\n",
      " [  1   0   1   1 834   0   0]\n",
      " [  0  42  12   0   1 401  76]\n",
      " [  0  14  42   9   0  56 402]]\n"
     ]
    }
   ],
   "source": [
    "final_model = XGBClassifier(random_state = 1, colsample_bytree = 0.5, learning_rate = 0.01, max_depth = 7, n_estimators = 1000, \n",
    "                            subsample = 0.5)\n",
    "final_model.fit(X_train, y_train)\n",
    "pred = final_model.predict(X_val)\n",
    "\n",
    "print('Classification report:\\n' , classification_report(y_val, pred))\n",
    "print('Confusion matrix: \\n', confusion_matrix(y_val, pred))"
   ]
  },
  {
   "cell_type": "code",
   "execution_count": null,
   "metadata": {},
   "outputs": [],
   "source": []
  }
 ],
 "metadata": {
  "kernelspec": {
   "display_name": "Python 3",
   "language": "python",
   "name": "python3"
  },
  "language_info": {
   "codemirror_mode": {
    "name": "ipython",
    "version": 3
   },
   "file_extension": ".py",
   "mimetype": "text/x-python",
   "name": "python",
   "nbconvert_exporter": "python",
   "pygments_lexer": "ipython3",
   "version": "3.8.5"
  }
 },
 "nbformat": 4,
 "nbformat_minor": 2
}
