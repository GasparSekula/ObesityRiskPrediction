{
 "cells": [
  {
   "cell_type": "markdown",
   "metadata": {},
   "source": [
    "## Stacking\n",
    "## score"
   ]
  },
  {
   "cell_type": "markdown",
   "metadata": {},
   "source": [
    "### 1. Libraries\n"
   ]
  },
  {
   "cell_type": "code",
   "execution_count": 1,
   "metadata": {},
   "outputs": [],
   "source": [
    "import pandas as pd\n",
    "import numpy as np\n",
    "import seaborn as sns\n",
    "import matplotlib.pyplot as plt\n",
    "from sklearn.compose import ColumnTransformer\n",
    "from sklearn.pipeline import Pipeline\n",
    "from sklearn.preprocessing import FunctionTransformer, LabelEncoder\n",
    "from sklearn.tree import DecisionTreeClassifier\n",
    "from sklearn.metrics import classification_report, confusion_matrix\n",
    "from xgboost import XGBClassifier\n",
    "from sklearn.ensemble import RandomForestClassifier\n",
    "from sklearn.svm import SVC\n",
    "from sklearn.linear_model import LogisticRegression\n",
    "from sklearn.naive_bayes import GaussianNB\n",
    "from sklearn.neighbors import KNeighborsClassifier\n",
    "from sklearn.linear_model import SGDClassifier\n",
    "from sklearn.ensemble import AdaBoostClassifier\n",
    "from sklearn.ensemble import StackingClassifier\n",
    "from sklearn.model_selection import cross_val_score\n"
   ]
  },
  {
   "cell_type": "markdown",
   "metadata": {},
   "source": [
    "### 2. Data"
   ]
  },
  {
   "cell_type": "code",
   "execution_count": 2,
   "metadata": {},
   "outputs": [],
   "source": [
    "train = pd.read_csv('../Data/train_with_BMI.csv')\n",
    "test = pd.read_csv('../Data/test_with_BMI.csv')\n",
    "val = pd.read_csv('../Data/val_with_BMI.csv')\n",
    "\n",
    "X_train = train.drop('NObeyesdad', axis=1)\n",
    "y_train = train['NObeyesdad']\n",
    "X_test = test.drop('NObeyesdad', axis=1)\n",
    "y_test = test['NObeyesdad']\n",
    "X_val = val.drop('NObeyesdad', axis=1)\n",
    "y_val = val['NObeyesdad']"
   ]
  },
  {
   "cell_type": "markdown",
   "metadata": {},
   "source": [
    "## Model\n",
    "### 3. Models with the best parameters"
   ]
  },
  {
   "cell_type": "code",
   "execution_count": 3,
   "metadata": {},
   "outputs": [],
   "source": [
    "# define base models\n",
    "XGB = XGBClassifier(random_state = 42, colsample_bytree = 0.5, learning_rate = 0.01, max_depth = 7, n_estimators = 1000, \n",
    "                            subsample = 0.5)\n",
    "\n",
    "RF = RandomForestClassifier(criterion='entropy', max_depth=20,min_samples_split=6,n_estimators=300,n_jobs=-1 , random_state=42, max_features='sqrt')\n",
    "\n",
    "DT = DecisionTreeClassifier(criterion='gini', max_depth=50, min_samples_split=5, max_leaf_nodes=100, random_state=42)\n",
    "\n",
    "SVM = SVC(C = 10, gamma= 0.01, kernel='rbf')\n",
    "\n",
    "LR = LogisticRegression(random_state=1, C = 100, max_iter= 500, penalty= 'l2', solver='lbfgs')\n",
    "\n",
    "NB = GaussianNB(var_smoothing=0.002848035868435802)\n",
    "\n",
    "SGD = SGDClassifier(random_state=42, alpha=0.000774263682681127, loss='log_loss', l1_ratio=0.2, penalty='elasticnet')\n",
    " \n",
    "KN = KNeighborsClassifier(n_neighbors=5)\n",
    "\n",
    "AB = AdaBoostClassifier(n_estimators=50, learning_rate=0.1)\n"
   ]
  },
  {
   "cell_type": "markdown",
   "metadata": {},
   "source": [
    "### 4. Stacking with base top 3 models"
   ]
  },
  {
   "cell_type": "code",
   "execution_count": 12,
   "metadata": {},
   "outputs": [
    {
     "name": "stdout",
     "output_type": "stream",
     "text": [
      "Test Classification Report: \n",
      "               precision    recall  f1-score   support\n",
      "\n",
      "           0       0.91      0.94      0.93       230\n",
      "           1       0.88      0.87      0.88       283\n",
      "           2       0.90      0.85      0.87       254\n",
      "           3       0.96      0.97      0.97       291\n",
      "           4       1.00      1.00      1.00       370\n",
      "           5       0.76      0.78      0.77       201\n",
      "           6       0.79      0.80      0.79       240\n",
      "\n",
      "    accuracy                           0.90      1869\n",
      "   macro avg       0.88      0.89      0.89      1869\n",
      "weighted avg       0.90      0.90      0.90      1869\n",
      "\n",
      "Validation Classification Report: \n",
      "               precision    recall  f1-score   support\n",
      "\n",
      "           0       0.94      0.92      0.93       525\n",
      "           1       0.86      0.88      0.87       624\n",
      "           2       0.87      0.84      0.85       604\n",
      "           3       0.95      0.97      0.96       714\n",
      "           4       0.99      1.00      1.00       837\n",
      "           5       0.74      0.75      0.75       532\n",
      "           6       0.75      0.76      0.75       523\n",
      "\n",
      "    accuracy                           0.88      4359\n",
      "   macro avg       0.87      0.87      0.87      4359\n",
      "weighted avg       0.88      0.88      0.88      4359\n",
      "\n",
      "\n",
      " ***************************** \n",
      "\n",
      "Stacking Test CV Accuracy:  [0.88502674 0.86898396 0.89037433 0.86631016 0.8766756 ]\n",
      "Stacking Validation CV Accuracy:  [0.86811927 0.87844037 0.88073394 0.87155963 0.85993111]\n",
      "\n",
      " ***************************** \n",
      "\n",
      "Stacking Test CV Mean Accuracy:  0.8774741580765868\n",
      "Stacking Validation CV Mean Accuracy:  0.8717568649343261\n"
     ]
    }
   ],
   "source": [
    "top_3_models = [('XGB', XGB), ('RF', RF), ('DT', DT)]\n",
    "\n",
    "\n",
    "stack = StackingClassifier(estimators=top_3_models, final_estimator=RandomForestClassifier(random_state=42), cv=5)\n",
    "\n",
    "stack.fit(X_train, y_train)\n",
    "\n",
    "test_preds = stack.predict(X_test)\n",
    "val_preds = stack.predict(X_val)\n",
    "\n",
    "print('Test Classification Report: \\n', classification_report(y_test, test_preds))\n",
    "print('Validation Classification Report: \\n', classification_report(y_val, val_preds))\n",
    "\n",
    "stack_cv_test = cross_val_score(stack, X_test, y_test, cv=5, scoring='accuracy')\n",
    "stack_cv_val = cross_val_score(stack, X_val, y_val, cv=5, scoring='accuracy')\n",
    "\n",
    "print('\\n ***************************** \\n')\n",
    "\n",
    "print('Stacking Test CV Accuracy: ', stack_cv_test)\n",
    "print('Stacking Validation CV Accuracy: ', stack_cv_val)\n",
    "print('\\n ***************************** \\n')\n",
    "print('Stacking Test CV Mean Accuracy: ', stack_cv_test.mean())\n",
    "print('Stacking Validation CV Mean Accuracy: ', stack_cv_val.mean())"
   ]
  },
  {
   "cell_type": "markdown",
   "metadata": {},
   "source": [
    "### 5. Stacking with base top 6 models"
   ]
  },
  {
   "cell_type": "code",
   "execution_count": 17,
   "metadata": {},
   "outputs": [
    {
     "name": "stdout",
     "output_type": "stream",
     "text": [
      "Test Classification Report: \n",
      "               precision    recall  f1-score   support\n",
      "\n",
      "           0       0.90      0.94      0.92       230\n",
      "           1       0.89      0.86      0.88       283\n",
      "           2       0.87      0.86      0.87       254\n",
      "           3       0.97      0.97      0.97       291\n",
      "           4       1.00      1.00      1.00       370\n",
      "           5       0.74      0.76      0.75       201\n",
      "           6       0.79      0.78      0.78       240\n",
      "\n",
      "    accuracy                           0.89      1869\n",
      "   macro avg       0.88      0.88      0.88      1869\n",
      "weighted avg       0.89      0.89      0.89      1869\n",
      "\n",
      "Validation Classification Report: \n",
      "               precision    recall  f1-score   support\n",
      "\n",
      "           0       0.93      0.92      0.93       525\n",
      "           1       0.86      0.87      0.86       624\n",
      "           2       0.86      0.83      0.85       604\n",
      "           3       0.95      0.97      0.96       714\n",
      "           4       1.00      1.00      1.00       837\n",
      "           5       0.74      0.76      0.75       532\n",
      "           6       0.76      0.76      0.76       523\n",
      "\n",
      "    accuracy                           0.88      4359\n",
      "   macro avg       0.87      0.87      0.87      4359\n",
      "weighted avg       0.88      0.88      0.88      4359\n",
      "\n"
     ]
    }
   ],
   "source": [
    "top_6_models = [('XGB', XGB), ('RF', RF), ('DT', DT), ('SVM', SVM), ('LR', LR), ('NB', NB)]\n",
    "\n",
    "\n",
    "stack = StackingClassifier(estimators=top_6_models, final_estimator=RandomForestClassifier(random_state=42), cv=5)\n",
    "\n",
    "stack.fit(X_train, y_train)\n",
    "\n",
    "test_preds = stack.predict(X_test)\n",
    "val_preds = stack.predict(X_val)\n",
    "\n",
    "print('Test Classification Report: \\n', classification_report(y_test, test_preds))\n",
    "print('Validation Classification Report: \\n', classification_report(y_val, val_preds))\n",
    "\n",
    "# stack_cv_test = cross_val_score(stack, X_test, y_test, cv=5, scoring='accuracy')\n",
    "# stack_cv_val = cross_val_score(stack, X_val, y_val, cv=5, scoring='accuracy')\n",
    "\n",
    "# print('\\n ***************************** \\n')\n",
    "\n",
    "# print('Stacking Test CV Accuracy: ', stack_cv_test)\n",
    "# print('Stacking Validation CV Accuracy: ', stack_cv_val)\n",
    "# print('\\n ***************************** \\n')\n",
    "# print('Stacking Test CV Mean Accuracy: ', stack_cv_test.mean())\n",
    "# print('Stacking Validation CV Mean Accuracy: ', stack_cv_val.mean())"
   ]
  },
  {
   "cell_type": "markdown",
   "metadata": {},
   "source": [
    "### 6. Stacking with base all models"
   ]
  },
  {
   "cell_type": "code",
   "execution_count": 14,
   "metadata": {},
   "outputs": [
    {
     "name": "stdout",
     "output_type": "stream",
     "text": [
      "Test Classification Report: \n",
      "               precision    recall  f1-score   support\n",
      "\n",
      "           0       0.91      0.94      0.93       230\n",
      "           1       0.88      0.87      0.88       283\n",
      "           2       0.90      0.85      0.87       254\n",
      "           3       0.96      0.97      0.97       291\n",
      "           4       1.00      1.00      1.00       370\n",
      "           5       0.76      0.78      0.77       201\n",
      "           6       0.79      0.80      0.79       240\n",
      "\n",
      "    accuracy                           0.90      1869\n",
      "   macro avg       0.88      0.89      0.89      1869\n",
      "weighted avg       0.90      0.90      0.90      1869\n",
      "\n",
      "Validation Classification Report: \n",
      "               precision    recall  f1-score   support\n",
      "\n",
      "           0       0.94      0.92      0.93       525\n",
      "           1       0.86      0.88      0.87       624\n",
      "           2       0.87      0.84      0.85       604\n",
      "           3       0.95      0.97      0.96       714\n",
      "           4       0.99      1.00      1.00       837\n",
      "           5       0.74      0.75      0.75       532\n",
      "           6       0.75      0.76      0.75       523\n",
      "\n",
      "    accuracy                           0.88      4359\n",
      "   macro avg       0.87      0.87      0.87      4359\n",
      "weighted avg       0.88      0.88      0.88      4359\n",
      "\n",
      "\n",
      " ***************************** \n",
      "\n",
      "Stacking Test CV Accuracy:  [0.88502674 0.86898396 0.89037433 0.86631016 0.8766756 ]\n",
      "Stacking Validation CV Accuracy:  [0.86811927 0.87844037 0.88073394 0.87155963 0.85993111]\n",
      "\n",
      " ***************************** \n",
      "\n",
      "Stacking Test CV Mean Accuracy:  0.8774741580765868\n",
      "Stacking Validation CV Mean Accuracy:  0.8717568649343261\n"
     ]
    }
   ],
   "source": [
    "models = [('XGB', XGB), ('RF', RF), ('DT', DT), ('SVM', SVM), ('LR', LR), ('NB', NB), ('SGD', SGD), ('KN', KN), ('AB', AB)]\n",
    "\n",
    "\n",
    "stack = StackingClassifier(estimators=top_3_models, final_estimator=RandomForestClassifier(random_state=42), cv=5)\n",
    "\n",
    "stack.fit(X_train, y_train)\n",
    "\n",
    "test_preds = stack.predict(X_test)\n",
    "val_preds = stack.predict(X_val)\n",
    "\n",
    "print('Test Classification Report: \\n', classification_report(y_test, test_preds))\n",
    "print('Validation Classification Report: \\n', classification_report(y_val, val_preds))\n",
    "\n",
    "stack_cv_test = cross_val_score(stack, X_test, y_test, cv=5, scoring='accuracy')\n",
    "stack_cv_val = cross_val_score(stack, X_val, y_val, cv=5, scoring='accuracy')\n",
    "\n",
    "print('\\n ***************************** \\n')\n",
    "\n",
    "print('Stacking Test CV Accuracy: ', stack_cv_test)\n",
    "print('Stacking Validation CV Accuracy: ', stack_cv_val)\n",
    "print('\\n ***************************** \\n')\n",
    "print('Stacking Test CV Mean Accuracy: ', stack_cv_test.mean())\n",
    "print('Stacking Validation CV Mean Accuracy: ', stack_cv_val.mean())"
   ]
  },
  {
   "cell_type": "code",
   "execution_count": 16,
   "metadata": {},
   "outputs": [
    {
     "name": "stdout",
     "output_type": "stream",
     "text": [
      "Validation Classification Report: \n",
      "               precision    recall  f1-score   support\n",
      "\n",
      "           0       0.94      0.92      0.93       525\n",
      "           1       0.86      0.88      0.87       624\n",
      "           2       0.87      0.84      0.85       604\n",
      "           3       0.95      0.97      0.96       714\n",
      "           4       0.99      1.00      1.00       837\n",
      "           5       0.74      0.75      0.75       532\n",
      "           6       0.75      0.76      0.75       523\n",
      "\n",
      "    accuracy                           0.88      4359\n",
      "   macro avg       0.87      0.87      0.87      4359\n",
      "weighted avg       0.88      0.88      0.88      4359\n",
      "\n"
     ]
    }
   ],
   "source": [
    "print('Validation Classification Report: \\n', classification_report(y_val, val_preds))\n"
   ]
  },
  {
   "cell_type": "markdown",
   "metadata": {},
   "source": [
    "## using LR"
   ]
  },
  {
   "cell_type": "markdown",
   "metadata": {},
   "source": [
    "### 7. using top 3 models"
   ]
  },
  {
   "cell_type": "code",
   "execution_count": 4,
   "metadata": {},
   "outputs": [
    {
     "name": "stdout",
     "output_type": "stream",
     "text": [
      "Test Classification Report: \n",
      "               precision    recall  f1-score   support\n",
      "\n",
      "           0       0.92      0.94      0.93       230\n",
      "           1       0.89      0.88      0.88       283\n",
      "           2       0.86      0.85      0.86       254\n",
      "           3       0.97      0.97      0.97       291\n",
      "           4       1.00      1.00      1.00       370\n",
      "           5       0.74      0.78      0.76       201\n",
      "           6       0.79      0.77      0.78       240\n",
      "\n",
      "    accuracy                           0.89      1869\n",
      "   macro avg       0.88      0.88      0.88      1869\n",
      "weighted avg       0.89      0.89      0.89      1869\n",
      "\n",
      "Validation Classification Report: \n",
      "               precision    recall  f1-score   support\n",
      "\n",
      "           0       0.94      0.90      0.92       525\n",
      "           1       0.85      0.88      0.87       624\n",
      "           2       0.87      0.83      0.85       604\n",
      "           3       0.95      0.96      0.96       714\n",
      "           4       1.00      1.00      1.00       837\n",
      "           5       0.75      0.77      0.76       532\n",
      "           6       0.76      0.76      0.76       523\n",
      "\n",
      "    accuracy                           0.88      4359\n",
      "   macro avg       0.87      0.87      0.87      4359\n",
      "weighted avg       0.88      0.88      0.88      4359\n",
      "\n",
      "\n",
      " ***************************** \n",
      "\n",
      "Stacking Test CV Accuracy:  [0.88770053 0.86096257 0.89572193 0.86631016 0.88739946]\n",
      "Stacking Validation CV Accuracy:  [0.87270642 0.88188073 0.88073394 0.87614679 0.86222732]\n",
      "\n",
      " ***************************** \n",
      "\n",
      "Stacking Test CV Mean Accuracy:  0.8796189301945493\n",
      "Stacking Validation CV Mean Accuracy:  0.8747390429644298\n"
     ]
    }
   ],
   "source": [
    "top_3_models = [('XGB', XGB), ('RF', RF), ('DT', DT)]\n",
    "\n",
    "\n",
    "stack = StackingClassifier(estimators=top_3_models, \n",
    "                           final_estimator= LogisticRegression(random_state=1, C = 100, max_iter= 500, penalty= 'l2', solver='lbfgs'), \n",
    "                           cv=5)\n",
    "\n",
    "stack.fit(X_train, y_train)\n",
    "\n",
    "test_preds = stack.predict(X_test)\n",
    "val_preds = stack.predict(X_val)\n",
    "\n",
    "print('Test Classification Report: \\n', classification_report(y_test, test_preds))\n",
    "print('Validation Classification Report: \\n', classification_report(y_val, val_preds))\n",
    "\n",
    "stack_cv_test = cross_val_score(stack, X_test, y_test, cv=5, scoring='accuracy')\n",
    "stack_cv_val = cross_val_score(stack, X_val, y_val, cv=5, scoring='accuracy')\n",
    "\n",
    "print('\\n ***************************** \\n')\n",
    "\n",
    "print('Stacking Test CV Accuracy: ', stack_cv_test)\n",
    "print('Stacking Validation CV Accuracy: ', stack_cv_val)\n",
    "print('\\n ***************************** \\n')\n",
    "print('Stacking Test CV Mean Accuracy: ', stack_cv_test.mean())\n",
    "print('Stacking Validation CV Mean Accuracy: ', stack_cv_val.mean())"
   ]
  },
  {
   "cell_type": "markdown",
   "metadata": {},
   "source": [
    "### 8. using all models "
   ]
  },
  {
   "cell_type": "code",
   "execution_count": 5,
   "metadata": {},
   "outputs": [
    {
     "name": "stdout",
     "output_type": "stream",
     "text": [
      "Test Classification Report: \n",
      "               precision    recall  f1-score   support\n",
      "\n",
      "           0       0.92      0.94      0.93       230\n",
      "           1       0.89      0.88      0.88       283\n",
      "           2       0.86      0.85      0.86       254\n",
      "           3       0.97      0.97      0.97       291\n",
      "           4       1.00      1.00      1.00       370\n",
      "           5       0.74      0.78      0.76       201\n",
      "           6       0.79      0.77      0.78       240\n",
      "\n",
      "    accuracy                           0.89      1869\n",
      "   macro avg       0.88      0.88      0.88      1869\n",
      "weighted avg       0.89      0.89      0.89      1869\n",
      "\n",
      "Validation Classification Report: \n",
      "               precision    recall  f1-score   support\n",
      "\n",
      "           0       0.94      0.90      0.92       525\n",
      "           1       0.85      0.88      0.87       624\n",
      "           2       0.87      0.83      0.85       604\n",
      "           3       0.95      0.96      0.96       714\n",
      "           4       1.00      1.00      1.00       837\n",
      "           5       0.75      0.77      0.76       532\n",
      "           6       0.76      0.76      0.76       523\n",
      "\n",
      "    accuracy                           0.88      4359\n",
      "   macro avg       0.87      0.87      0.87      4359\n",
      "weighted avg       0.88      0.88      0.88      4359\n",
      "\n",
      "\n",
      " ***************************** \n",
      "\n",
      "Stacking Test CV Accuracy:  [0.88770053 0.86096257 0.89572193 0.86631016 0.88739946]\n",
      "Stacking Validation CV Accuracy:  [0.87270642 0.88188073 0.88073394 0.87614679 0.86222732]\n",
      "\n",
      " ***************************** \n",
      "\n",
      "Stacking Test CV Mean Accuracy:  0.8796189301945493\n",
      "Stacking Validation CV Mean Accuracy:  0.8747390429644298\n"
     ]
    }
   ],
   "source": [
    "models = [('XGB', XGB), ('RF', RF), ('DT', DT), ('SVM', SVM), ('LR', LR), ('NB', NB), ('SGD', SGD), ('KN', KN), ('AB', AB)]\n",
    "\n",
    "\n",
    "stack = StackingClassifier(estimators=top_3_models,  final_estimator=LogisticRegression(random_state=1, C = 100, max_iter= 500, penalty= 'l2', solver='lbfgs')\n",
    ", cv=5)\n",
    "\n",
    "stack.fit(X_train, y_train)\n",
    "\n",
    "test_preds = stack.predict(X_test)\n",
    "val_preds = stack.predict(X_val)\n",
    "\n",
    "print('Test Classification Report: \\n', classification_report(y_test, test_preds))\n",
    "print('Validation Classification Report: \\n', classification_report(y_val, val_preds))\n",
    "\n",
    "stack_cv_test = cross_val_score(stack, X_test, y_test, cv=5, scoring='accuracy')\n",
    "stack_cv_val = cross_val_score(stack, X_val, y_val, cv=5, scoring='accuracy')\n",
    "\n",
    "print('\\n ***************************** \\n')\n",
    "\n",
    "print('Stacking Test CV Accuracy: ', stack_cv_test)\n",
    "print('Stacking Validation CV Accuracy: ', stack_cv_val)\n",
    "print('\\n ***************************** \\n')\n",
    "print('Stacking Test CV Mean Accuracy: ', stack_cv_test.mean())\n",
    "print('Stacking Validation CV Mean Accuracy: ', stack_cv_val.mean())"
   ]
  },
  {
   "cell_type": "markdown",
   "metadata": {},
   "source": [
    "## using XGBOOST"
   ]
  },
  {
   "cell_type": "markdown",
   "metadata": {},
   "source": [
    "### top 3 models"
   ]
  },
  {
   "cell_type": "code",
   "execution_count": 6,
   "metadata": {},
   "outputs": [
    {
     "name": "stdout",
     "output_type": "stream",
     "text": [
      "Test Classification Report: \n",
      "               precision    recall  f1-score   support\n",
      "\n",
      "           0       0.92      0.93      0.92       230\n",
      "           1       0.89      0.88      0.88       283\n",
      "           2       0.88      0.85      0.87       254\n",
      "           3       0.97      0.96      0.96       291\n",
      "           4       1.00      1.00      1.00       370\n",
      "           5       0.76      0.76      0.76       201\n",
      "           6       0.76      0.79      0.77       240\n",
      "\n",
      "    accuracy                           0.89      1869\n",
      "   macro avg       0.88      0.88      0.88      1869\n",
      "weighted avg       0.89      0.89      0.89      1869\n",
      "\n",
      "Validation Classification Report: \n",
      "               precision    recall  f1-score   support\n",
      "\n",
      "           0       0.95      0.91      0.93       525\n",
      "           1       0.86      0.89      0.87       624\n",
      "           2       0.87      0.82      0.85       604\n",
      "           3       0.95      0.97      0.96       714\n",
      "           4       1.00      1.00      1.00       837\n",
      "           5       0.75      0.76      0.75       532\n",
      "           6       0.74      0.76      0.75       523\n",
      "\n",
      "    accuracy                           0.88      4359\n",
      "   macro avg       0.87      0.87      0.87      4359\n",
      "weighted avg       0.89      0.88      0.88      4359\n",
      "\n",
      "\n",
      " ***************************** \n",
      "\n",
      "Stacking Test CV Accuracy:  [0.89037433 0.86363636 0.89572193 0.86363636 0.87935657]\n",
      "Stacking Validation CV Accuracy:  [0.87041284 0.88876147 0.87385321 0.86582569 0.86107922]\n",
      "\n",
      " ***************************** \n",
      "\n",
      "Stacking Test CV Mean Accuracy:  0.8785451104643661\n",
      "Stacking Validation CV Mean Accuracy:  0.8719864860594699\n"
     ]
    }
   ],
   "source": [
    "models = [('XGB', XGB), ('RF', RF), ('DT', DT), ('SVM', SVM), ('LR', LR), ('NB', NB), ('SGD', SGD), ('KN', KN), ('AB', AB)]\n",
    "\n",
    "\n",
    "stack = StackingClassifier(estimators=top_3_models,  final_estimator=XGBClassifier(random_state = 42, colsample_bytree = 0.5, learning_rate = 0.01, max_depth = 7, n_estimators = 1000, \n",
    "                            subsample = 0.5), cv=5)\n",
    "\n",
    "stack.fit(X_train, y_train)\n",
    "\n",
    "test_preds = stack.predict(X_test)\n",
    "val_preds = stack.predict(X_val)\n",
    "\n",
    "print('Test Classification Report: \\n', classification_report(y_test, test_preds))\n",
    "print('Validation Classification Report: \\n', classification_report(y_val, val_preds))\n",
    "\n",
    "stack_cv_test = cross_val_score(stack, X_test, y_test, cv=5, scoring='accuracy')\n",
    "stack_cv_val = cross_val_score(stack, X_val, y_val, cv=5, scoring='accuracy')\n",
    "\n",
    "print('\\n ***************************** \\n')\n",
    "\n",
    "print('Stacking Test CV Accuracy: ', stack_cv_test)\n",
    "print('Stacking Validation CV Accuracy: ', stack_cv_val)\n",
    "print('\\n ***************************** \\n')\n",
    "print('Stacking Test CV Mean Accuracy: ', stack_cv_test.mean())\n",
    "print('Stacking Validation CV Mean Accuracy: ', stack_cv_val.mean())"
   ]
  },
  {
   "cell_type": "markdown",
   "metadata": {},
   "source": [
    ">not cool, would not recommend"
   ]
  },
  {
   "cell_type": "markdown",
   "metadata": {},
   "source": []
  }
 ],
 "metadata": {
  "kernelspec": {
   "display_name": "Python 3",
   "language": "python",
   "name": "python3"
  },
  "language_info": {
   "codemirror_mode": {
    "name": "ipython",
    "version": 3
   },
   "file_extension": ".py",
   "mimetype": "text/x-python",
   "name": "python",
   "nbconvert_exporter": "python",
   "pygments_lexer": "ipython3",
   "version": "3.11.7"
  }
 },
 "nbformat": 4,
 "nbformat_minor": 2
}
