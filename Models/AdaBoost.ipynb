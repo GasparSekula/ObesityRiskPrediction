{
 "cells": [
  {
   "cell_type": "markdown",
   "metadata": {},
   "source": [
    "## Ada Boost\n",
    "## best score 0.56\n",
    "### 1. Libraries"
   ]
  },
  {
   "cell_type": "code",
   "execution_count": 1,
   "metadata": {},
   "outputs": [],
   "source": [
    "import pandas as pd\n",
    "import numpy as np\n",
    "import seaborn as sns\n",
    "import matplotlib.pyplot as plt\n",
    "from sklearn.compose import ColumnTransformer\n",
    "from sklearn.pipeline import Pipeline\n",
    "from sklearn.preprocessing import FunctionTransformer, LabelEncoder\n",
    "from sklearn.metrics import classification_report, confusion_matrix\n",
    "from sklearn.model_selection import GridSearchCV\n",
    "from sklearn.ensemble import AdaBoostClassifier"
   ]
  },
  {
   "cell_type": "markdown",
   "metadata": {},
   "source": [
    "### 2. Data"
   ]
  },
  {
   "cell_type": "code",
   "execution_count": 2,
   "metadata": {},
   "outputs": [],
   "source": [
    "train = pd.read_csv('../Data/train_with_BMI.csv')\n",
    "test = pd.read_csv('../Data/test_with_BMI.csv')\n",
    "val = pd.read_csv('../Data/val_with_BMI.csv')\n",
    "\n",
    "X_train = train.drop('NObeyesdad', axis=1)\n",
    "y_train = train['NObeyesdad']\n",
    "X_test = test.drop('NObeyesdad', axis=1)\n",
    "y_test = test['NObeyesdad']\n",
    "X_val = val.drop('NObeyesdad', axis=1)\n",
    "y_val = val['NObeyesdad']"
   ]
  },
  {
   "cell_type": "markdown",
   "metadata": {},
   "source": [
    "### 3. Random parameters"
   ]
  },
  {
   "cell_type": "code",
   "execution_count": 3,
   "metadata": {},
   "outputs": [
    {
     "name": "stderr",
     "output_type": "stream",
     "text": [
      "c:\\Programy\\Anaconda\\Lib\\site-packages\\sklearn\\ensemble\\_weight_boosting.py:519: FutureWarning: The SAMME.R algorithm (the default) is deprecated and will be removed in 1.6. Use the SAMME algorithm to circumvent this warning.\n",
      "  warnings.warn(\n"
     ]
    },
    {
     "name": "stdout",
     "output_type": "stream",
     "text": [
      "Classification Report for AdaBoost Classifier: \n",
      "               precision    recall  f1-score   support\n",
      "\n",
      "           0       0.39      0.87      0.54       525\n",
      "           1       0.50      0.21      0.29       624\n",
      "           2       0.00      0.00      0.00       604\n",
      "           3       0.36      0.93      0.52       714\n",
      "           4       0.91      1.00      0.95       837\n",
      "           5       0.67      0.07      0.13       532\n",
      "           6       0.45      0.11      0.18       523\n",
      "\n",
      "    accuracy                           0.50      4359\n",
      "   macro avg       0.47      0.45      0.37      4359\n",
      "weighted avg       0.49      0.50      0.41      4359\n",
      "\n",
      "Confusion Matrix for AdaBoost Classifier: \n",
      " [[456  66   0   3   0   0   0]\n",
      " [473 128   0  12   0   5   6]\n",
      " [ 20   0   0 532  30   0  22]\n",
      " [  1   0   1 664  45   0   3]\n",
      " [  0   1   0   0 833   0   3]\n",
      " [186  38   0 232   1  37  38]\n",
      " [ 42  24   0 380   5  13  59]]\n"
     ]
    }
   ],
   "source": [
    "ab = AdaBoostClassifier()\n",
    "ab.fit(X_train, y_train)\n",
    "y_pred1 = ab.predict(X_val)\n",
    "class_report1 = classification_report(y_val, y_pred1)\n",
    "print(\"Classification Report for AdaBoost Classifier: \\n\", class_report1)\n",
    "cm1 = confusion_matrix(y_val, y_pred1)\n",
    "print(\"Confusion Matrix for AdaBoost Classifier: \\n\", cm1)"
   ]
  },
  {
   "cell_type": "markdown",
   "metadata": {},
   "source": [
    "Score: 0.50"
   ]
  },
  {
   "cell_type": "markdown",
   "metadata": {},
   "source": [
    "### 4. Hyperparameter tuning"
   ]
  },
  {
   "cell_type": "code",
   "execution_count": 4,
   "metadata": {},
   "outputs": [
    {
     "name": "stdout",
     "output_type": "stream",
     "text": [
      "Fitting 3 folds for each of 20 candidates, totalling 60 fits\n",
      "Best parameters:  {'learning_rate': 1.0, 'n_estimators': 10}\n",
      "Best score:  0.6757758011128289\n",
      "Best model Cross validation results:  0.6757758011128289\n"
     ]
    },
    {
     "name": "stderr",
     "output_type": "stream",
     "text": [
      "c:\\Programy\\Anaconda\\Lib\\site-packages\\sklearn\\ensemble\\_weight_boosting.py:519: FutureWarning: The SAMME.R algorithm (the default) is deprecated and will be removed in 1.6. Use the SAMME algorithm to circumvent this warning.\n",
      "  warnings.warn(\n"
     ]
    }
   ],
   "source": [
    "ab = AdaBoostClassifier()\n",
    "\n",
    "param_grid = {'n_estimators' : [10, 50, 100, 500],\n",
    "'learning_rate' : [0.0001, 0.001, 0.01, 0.1, 1.0]}\n",
    "\n",
    "\n",
    "grid_search = GridSearchCV(estimator = ab, param_grid = param_grid, scoring=\"accuracy\", n_jobs=-1, cv=3, verbose=2)\n",
    "grid_search.fit(X_train, y_train)\n",
    "\n",
    "best_params = grid_search.best_params_\n",
    "print(\"Best parameters: \", best_params)\n",
    "\n",
    "best_score = grid_search.best_score_\n",
    "print(\"Best score: \", best_score)\n",
    "\n",
    "cv_results = grid_search.cv_results_\n",
    "print(\"Best model Cross validation results: \", cv_results['mean_test_score'][grid_search.best_index_])"
   ]
  },
  {
   "cell_type": "markdown",
   "metadata": {},
   "source": [
    "Best parameters:  {'learning_rate': 0.1, 'n_estimators': 50}  \n",
    "Best score:  0.6710269770547462  \n",
    "Best model Cross validation results:  0.6710269770547462  \n",
    "No overfitting."
   ]
  },
  {
   "cell_type": "markdown",
   "metadata": {},
   "source": [
    "### 5. Best model - test"
   ]
  },
  {
   "cell_type": "code",
   "execution_count": 5,
   "metadata": {},
   "outputs": [
    {
     "name": "stderr",
     "output_type": "stream",
     "text": [
      "c:\\Programy\\Anaconda\\Lib\\site-packages\\sklearn\\ensemble\\_weight_boosting.py:519: FutureWarning: The SAMME.R algorithm (the default) is deprecated and will be removed in 1.6. Use the SAMME algorithm to circumvent this warning.\n",
      "  warnings.warn(\n"
     ]
    },
    {
     "name": "stdout",
     "output_type": "stream",
     "text": [
      "Classification report: \n",
      "               precision    recall  f1-score   support\n",
      "\n",
      "           0       0.00      0.00      0.00       525\n",
      "           1       0.42      0.62      0.50       624\n",
      "           2       0.39      0.85      0.53       604\n",
      "           3       0.97      0.10      0.18       714\n",
      "           4       0.99      0.86      0.92       837\n",
      "           5       0.52      0.73      0.61       532\n",
      "           6       0.67      0.72      0.70       523\n",
      "\n",
      "    accuracy                           0.56      4359\n",
      "   macro avg       0.57      0.55      0.49      4359\n",
      "weighted avg       0.61      0.56      0.51      4359\n",
      "\n",
      "Confusion matrix: \n",
      " [[  0 513   0   0   0  10   2]\n",
      " [  0 388   1   0   0 229   6]\n",
      " [  0   2 511   2   4  26  59]\n",
      " [  0   0 638  70   1   0   5]\n",
      " [  0   1 112   0 723   0   1]\n",
      " [  0  22  11   0   0 387 112]\n",
      " [  0   5  53   0   0  87 378]]\n"
     ]
    },
    {
     "name": "stderr",
     "output_type": "stream",
     "text": [
      "c:\\Programy\\Anaconda\\Lib\\site-packages\\sklearn\\metrics\\_classification.py:1509: UndefinedMetricWarning: Precision is ill-defined and being set to 0.0 in labels with no predicted samples. Use `zero_division` parameter to control this behavior.\n",
      "  _warn_prf(average, modifier, f\"{metric.capitalize()} is\", len(result))\n",
      "c:\\Programy\\Anaconda\\Lib\\site-packages\\sklearn\\metrics\\_classification.py:1509: UndefinedMetricWarning: Precision is ill-defined and being set to 0.0 in labels with no predicted samples. Use `zero_division` parameter to control this behavior.\n",
      "  _warn_prf(average, modifier, f\"{metric.capitalize()} is\", len(result))\n",
      "c:\\Programy\\Anaconda\\Lib\\site-packages\\sklearn\\metrics\\_classification.py:1509: UndefinedMetricWarning: Precision is ill-defined and being set to 0.0 in labels with no predicted samples. Use `zero_division` parameter to control this behavior.\n",
      "  _warn_prf(average, modifier, f\"{metric.capitalize()} is\", len(result))\n"
     ]
    }
   ],
   "source": [
    "best = AdaBoostClassifier(n_estimators=50, learning_rate=0.1)\n",
    "best.fit(X_train, y_train)\n",
    "y_pred2 = best.predict(X_val)\n",
    "class_report2 = classification_report(y_val, y_pred2)\n",
    "print(\"Classification report: \\n\", class_report2)\n",
    "conf_matrix2 = confusion_matrix(y_val, y_pred2)\n",
    "print(\"Confusion matrix: \\n\", conf_matrix2)"
   ]
  },
  {
   "cell_type": "markdown",
   "metadata": {},
   "source": [
    "Result on validation data: 0.56 => **overfitting**."
   ]
  }
 ],
 "metadata": {
  "kernelspec": {
   "display_name": "Python 3",
   "language": "python",
   "name": "python3"
  },
  "language_info": {
   "codemirror_mode": {
    "name": "ipython",
    "version": 3
   },
   "file_extension": ".py",
   "mimetype": "text/x-python",
   "name": "python",
   "nbconvert_exporter": "python",
   "pygments_lexer": "ipython3",
   "version": "3.11.7"
  }
 },
 "nbformat": 4,
 "nbformat_minor": 2
}
