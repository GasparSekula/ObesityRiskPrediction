{
 "cells": [
  {
   "cell_type": "markdown",
   "metadata": {},
   "source": [
    "Logistic Regression"
   ]
  },
  {
   "cell_type": "markdown",
   "metadata": {},
   "source": [
    "Best score 0.85"
   ]
  },
  {
   "cell_type": "code",
   "execution_count": 4,
   "metadata": {},
   "outputs": [],
   "source": [
    "import pandas as pd\n",
    "import numpy as np\n",
    "import seaborn as sns\n",
    "import matplotlib.pyplot as plt\n",
    "from sklearn.linear_model import LogisticRegression\n",
    "from sklearn.metrics import classification_report, confusion_matrix\n",
    "from sklearn.model_selection import GridSearchCV"
   ]
  },
  {
   "cell_type": "code",
   "execution_count": 2,
   "metadata": {},
   "outputs": [],
   "source": [
    "train = pd.read_csv('Data/selected_train.csv')\n",
    "test = pd.read_csv('Data/selected_test.csv')\n",
    "val = pd.read_csv('Data/selected_val.csv')"
   ]
  },
  {
   "cell_type": "code",
   "execution_count": 3,
   "metadata": {},
   "outputs": [],
   "source": [
    "X_train = train.drop('NObeyesdad', axis=1)\n",
    "y_train = train['NObeyesdad']\n",
    "X_test = test.drop('NObeyesdad', axis=1)\n",
    "y_test = test['NObeyesdad']\n",
    "X_val = val.drop('NObeyesdad', axis=1)\n",
    "y_val = val['NObeyesdad']"
   ]
  },
  {
   "cell_type": "code",
   "execution_count": 8,
   "metadata": {},
   "outputs": [
    {
     "name": "stdout",
     "output_type": "stream",
     "text": [
      "Fitting 3 folds for each of 120 candidates, totalling 360 fits\n",
      "Best parameters found:  {'C': 1, 'max_iter': 500, 'penalty': 'l1', 'solver': 'saga'}\n",
      "Best score found:  0.8459740020514226\n"
     ]
    }
   ],
   "source": [
    "param_grid = {\n",
    "    'penalty': ['l1', 'l2'],\n",
    "    'C': [0.001, 0.01, 0.1, 1, 10, 100],\n",
    "    'solver': ['liblinear', 'saga' ],\n",
    "    'max_iter': [500, 1000, 1500, 2000, 2500]\n",
    "}\n",
    "\n",
    "logistic = LogisticRegression(random_state=1)\n",
    "\n",
    "grid_search = GridSearchCV(estimator=logistic, param_grid=param_grid, cv=3, verbose=2, n_jobs=-1)\n",
    "\n",
    "\n",
    "grid_search.fit(X_train, y_train)\n",
    "\n",
    "print(\"Best parameters found: \", grid_search.best_params_)\n",
    "print(\"Best score found: \", grid_search.best_score_)"
   ]
  },
  {
   "cell_type": "code",
   "execution_count": 11,
   "metadata": {},
   "outputs": [
    {
     "name": "stdout",
     "output_type": "stream",
     "text": [
      "Classification report:\n",
      "               precision    recall  f1-score   support\n",
      "\n",
      "           0       0.90      0.92      0.91       525\n",
      "           1       0.84      0.82      0.83       624\n",
      "           2       0.80      0.78      0.79       604\n",
      "           3       0.90      0.94      0.92       714\n",
      "           4       0.99      1.00      0.99       837\n",
      "           5       0.68      0.73      0.70       532\n",
      "           6       0.70      0.64      0.67       523\n",
      "\n",
      "    accuracy                           0.85      4359\n",
      "   macro avg       0.83      0.83      0.83      4359\n",
      "weighted avg       0.85      0.85      0.85      4359\n",
      "\n",
      "Confusion matrix: \n",
      " [[481  39   0   0   0   3   2]\n",
      " [ 51 511   1   0   0  54   7]\n",
      " [  2   1 469  60   4  22  46]\n",
      " [  0   0  35 671   1   0   7]\n",
      " [  1   0   0   1 834   1   0]\n",
      " [  0  48  16   2   0 387  79]\n",
      " [  0   9  63  10   1 104 336]]\n"
     ]
    }
   ],
   "source": [
    "log = LogisticRegression(random_state=1, C = 1, max_iter= 500, penalty= 'l1', solver='saga')\n",
    "log.fit(X_train, y_train)\n",
    "predictions = log.predict(X_val)\n",
    "print('Classification report:\\n' , classification_report(y_val, predictions))\n",
    "print('Confusion matrix: \\n', confusion_matrix(y_val, predictions))\n"
   ]
  }
 ],
 "metadata": {
  "kernelspec": {
   "display_name": "base",
   "language": "python",
   "name": "python3"
  },
  "language_info": {
   "codemirror_mode": {
    "name": "ipython",
    "version": 3
   },
   "file_extension": ".py",
   "mimetype": "text/x-python",
   "name": "python",
   "nbconvert_exporter": "python",
   "pygments_lexer": "ipython3",
   "version": "3.9.12"
  }
 },
 "nbformat": 4,
 "nbformat_minor": 2
}
